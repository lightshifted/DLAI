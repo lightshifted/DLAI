{
  "nbformat": 4,
  "nbformat_minor": 0,
  "metadata": {
    "colab": {
      "name": "sequence_model.ipynb",
      "provenance": [],
      "collapsed_sections": []
    },
    "kernelspec": {
      "name": "python3",
      "display_name": "Python 3"
    }
  },
  "cells": [
    {
      "cell_type": "markdown",
      "metadata": {
        "id": "sb6-0GcxuyOS"
      },
      "source": [
        "### Mount Drive"
      ]
    },
    {
      "cell_type": "code",
      "metadata": {
        "colab": {
          "base_uri": "https://localhost:8080/"
        },
        "id": "7f9d0N1hX251",
        "outputId": "fa4845d1-4780-44ff-cdb5-2f7bc01dbcc4"
      },
      "source": [
        "# Mount Drive\r\n",
        "from google.colab import drive\r\n",
        "drive.mount('/content/drive') "
      ],
      "execution_count": 2,
      "outputs": [
        {
          "output_type": "stream",
          "text": [
            "Mounted at /content/drive\n"
          ],
          "name": "stdout"
        }
      ]
    },
    {
      "cell_type": "code",
      "metadata": {
        "id": "oz87HUx4X7Fn"
      },
      "source": [
        "import os\r\n",
        "# The path below should point to the directory containing this notebook and \r\n",
        "# the associated utility files\r\n",
        "os.chdir('drive/MyDrive/Colab Notebooks/FourthBrain/data/')\r\n",
        "!ls"
      ],
      "execution_count": null,
      "outputs": []
    },
    {
      "cell_type": "markdown",
      "metadata": {
        "id": "XIzwgdYzu3JZ"
      },
      "source": [
        "### Load Data"
      ]
    },
    {
      "cell_type": "code",
      "metadata": {
        "id": "Eud0-armX-Jv"
      },
      "source": [
        "# import libraries \r\n",
        "import pandas as pd\r\n",
        "import numpy as np\r\n",
        "import matplotlib.pyplot as plt\r\n",
        "from urllib.parse import urlparse"
      ],
      "execution_count": 4,
      "outputs": []
    },
    {
      "cell_type": "code",
      "metadata": {
        "colab": {
          "base_uri": "https://localhost:8080/"
        },
        "id": "MlkTv7NjYAvf",
        "outputId": "e09434c9-9833-4f61-880b-82e4d46d0f7b"
      },
      "source": [
        "# load data \r\n",
        "df = pd.read_csv('df_complete.csv')"
      ],
      "execution_count": 5,
      "outputs": [
        {
          "output_type": "stream",
          "text": [
            "/usr/local/lib/python3.6/dist-packages/IPython/core/interactiveshell.py:2718: DtypeWarning: Columns (9) have mixed types.Specify dtype option on import or set low_memory=False.\n",
            "  interactivity=interactivity, compiler=compiler, result=result)\n"
          ],
          "name": "stderr"
        }
      ]
    },
    {
      "cell_type": "markdown",
      "metadata": {
        "id": "-lm844dkviXZ"
      },
      "source": [
        "### Preprocess Data"
      ]
    },
    {
      "cell_type": "code",
      "metadata": {
        "id": "ez3UcmI4YM8J"
      },
      "source": [
        "# drop samples without pageview history\r\n",
        "pageviews = df.drop(list(np.ravel(np.where(\r\n",
        "    df['url0'] == 0 \r\n",
        "    ))))\r\n",
        "\r\n",
        "# drop useless column\r\n",
        "pageviews = pageviews.drop(columns='Unnamed: 0')"
      ],
      "execution_count": 6,
      "outputs": []
    },
    {
      "cell_type": "code",
      "metadata": {
        "id": "4ySR_vA6Zuco"
      },
      "source": [
        "cols2drop = [\r\n",
        " 'Became a Lead Date',\r\n",
        " 'Became a Subscriber Date',\r\n",
        " 'Became an Opportunity Date',\r\n",
        " 'First Conversion Date',\r\n",
        " 'First marketing email click date',\r\n",
        " 'First marketing email open date',\r\n",
        " 'First marketing email send date',\r\n",
        " 'Last Activity Date',\r\n",
        " 'Last marketing email click date',\r\n",
        " 'Last marketing email name',\r\n",
        " 'Last marketing email open date',\r\n",
        " 'Last marketing email send date',\r\n",
        " 'First Page Seen',\r\n",
        " 'Last Page Seen',\r\n",
        " 'Marketing emails opened',\r\n",
        " 'Marketing emails delivered',\r\n",
        " 'Marketing emails clicked',\r\n",
        " 'Opted out of email: Events and Community',\r\n",
        " 'Opted out of email: Program Announcements',\r\n",
        " 'Opted out of email: The Batch',\r\n",
        " 'Unsubscribed from all email',\r\n",
        " 'Which of the following online courses have you taken from deeplearning.ai?',\r\n",
        " 'Last Registered Event',\r\n",
        " 'Last Registered Event Date',\r\n",
        " 'Number of event completions',\r\n",
        " 'Highest level of completed education',\r\n",
        " 'Job Title or Function',\r\n",
        " 'IP Country Code',\r\n",
        " 'Associated Company ID',]\r\n",
        "\r\n",
        "# drop columns and store in X\r\n",
        "X = pageviews.drop(columns=cols2drop)"
      ],
      "execution_count": 7,
      "outputs": []
    },
    {
      "cell_type": "code",
      "metadata": {
        "id": "L0gtV4iLm1S8"
      },
      "source": [
        "# create dictionary of country encodings \r\n",
        "countries = dict(zip(X['IP Country'].unique(), list(range(len(X)))))\r\n",
        "\r\n",
        "# map encodings to X\r\n",
        "X['IP Country'] = X['IP Country'].map(countries)"
      ],
      "execution_count": 8,
      "outputs": []
    },
    {
      "cell_type": "code",
      "metadata": {
        "id": "m4H6oHezuaK5"
      },
      "source": [
        "# create column identifying paid learners where\r\n",
        "# (purchase = 1) and (non-purchase = 0)\r\n",
        "r,m = np.where(X.iloc[:, 5:9] == 6)\r\n",
        "X['purchase'] = 0\r\n",
        "X['purchase'].iloc[r] = 1"
      ],
      "execution_count": 9,
      "outputs": []
    },
    {
      "cell_type": "code",
      "metadata": {
        "colab": {
          "base_uri": "https://localhost:8080/"
        },
        "id": "181xgd-juvZJ",
        "outputId": "2b9ac28a-7bc5-43a8-f079-ca2dd0260ca1"
      },
      "source": [
        "# display percentage of \"purchase\" within the data set\r\n",
        "X['purchase'].value_counts(normalize=True)"
      ],
      "execution_count": 10,
      "outputs": [
        {
          "output_type": "execute_result",
          "data": {
            "text/plain": [
              "0    0.852078\n",
              "1    0.147922\n",
              "Name: purchase, dtype: float64"
            ]
          },
          "metadata": {
            "tags": []
          },
          "execution_count": 10
        }
      ]
    },
    {
      "cell_type": "code",
      "metadata": {
        "colab": {
          "base_uri": "https://localhost:8080/",
          "height": 406
        },
        "id": "8Q7_pdoimw5d",
        "outputId": "b17303b2-a7e2-40fe-c53d-c180bd814fbe"
      },
      "source": [
        "# sanity check\r\n",
        "X.iloc[np.where(X['purchase']==1)]"
      ],
      "execution_count": 11,
      "outputs": [
        {
          "output_type": "execute_result",
          "data": {
            "text/html": [
              "<div>\n",
              "<style scoped>\n",
              "    .dataframe tbody tr th:only-of-type {\n",
              "        vertical-align: middle;\n",
              "    }\n",
              "\n",
              "    .dataframe tbody tr th {\n",
              "        vertical-align: top;\n",
              "    }\n",
              "\n",
              "    .dataframe thead th {\n",
              "        text-align: right;\n",
              "    }\n",
              "</style>\n",
              "<table border=\"1\" class=\"dataframe\">\n",
              "  <thead>\n",
              "    <tr style=\"text-align: right;\">\n",
              "      <th></th>\n",
              "      <th>Contact ID</th>\n",
              "      <th>Average Pageviews</th>\n",
              "      <th>Number of Pageviews</th>\n",
              "      <th>Number of Sessions</th>\n",
              "      <th>IP Country</th>\n",
              "      <th>url0</th>\n",
              "      <th>url1</th>\n",
              "      <th>url2</th>\n",
              "      <th>url3</th>\n",
              "      <th>purchase</th>\n",
              "    </tr>\n",
              "  </thead>\n",
              "  <tbody>\n",
              "    <tr>\n",
              "      <th>82</th>\n",
              "      <td>2354</td>\n",
              "      <td>1</td>\n",
              "      <td>5</td>\n",
              "      <td>3</td>\n",
              "      <td>6</td>\n",
              "      <td>6</td>\n",
              "      <td>7</td>\n",
              "      <td>3</td>\n",
              "      <td>0</td>\n",
              "      <td>1</td>\n",
              "    </tr>\n",
              "    <tr>\n",
              "      <th>92</th>\n",
              "      <td>233</td>\n",
              "      <td>3</td>\n",
              "      <td>7</td>\n",
              "      <td>2</td>\n",
              "      <td>0</td>\n",
              "      <td>6</td>\n",
              "      <td>7</td>\n",
              "      <td>1</td>\n",
              "      <td>4</td>\n",
              "      <td>1</td>\n",
              "    </tr>\n",
              "    <tr>\n",
              "      <th>233</th>\n",
              "      <td>1239</td>\n",
              "      <td>1</td>\n",
              "      <td>1</td>\n",
              "      <td>1</td>\n",
              "      <td>6</td>\n",
              "      <td>6</td>\n",
              "      <td>0</td>\n",
              "      <td>0</td>\n",
              "      <td>0</td>\n",
              "      <td>1</td>\n",
              "    </tr>\n",
              "    <tr>\n",
              "      <th>264</th>\n",
              "      <td>2150</td>\n",
              "      <td>1</td>\n",
              "      <td>6</td>\n",
              "      <td>4</td>\n",
              "      <td>14</td>\n",
              "      <td>6</td>\n",
              "      <td>2</td>\n",
              "      <td>3</td>\n",
              "      <td>6</td>\n",
              "      <td>1</td>\n",
              "    </tr>\n",
              "    <tr>\n",
              "      <th>358</th>\n",
              "      <td>1123</td>\n",
              "      <td>5</td>\n",
              "      <td>5</td>\n",
              "      <td>1</td>\n",
              "      <td>18</td>\n",
              "      <td>6</td>\n",
              "      <td>3</td>\n",
              "      <td>6</td>\n",
              "      <td>3</td>\n",
              "      <td>1</td>\n",
              "    </tr>\n",
              "    <tr>\n",
              "      <th>...</th>\n",
              "      <td>...</td>\n",
              "      <td>...</td>\n",
              "      <td>...</td>\n",
              "      <td>...</td>\n",
              "      <td>...</td>\n",
              "      <td>...</td>\n",
              "      <td>...</td>\n",
              "      <td>...</td>\n",
              "      <td>...</td>\n",
              "      <td>...</td>\n",
              "    </tr>\n",
              "    <tr>\n",
              "      <th>324915</th>\n",
              "      <td>52997151</td>\n",
              "      <td>4</td>\n",
              "      <td>4</td>\n",
              "      <td>1</td>\n",
              "      <td>6</td>\n",
              "      <td>6</td>\n",
              "      <td>7</td>\n",
              "      <td>5</td>\n",
              "      <td>0</td>\n",
              "      <td>1</td>\n",
              "    </tr>\n",
              "    <tr>\n",
              "      <th>324919</th>\n",
              "      <td>53015251</td>\n",
              "      <td>2</td>\n",
              "      <td>5</td>\n",
              "      <td>2</td>\n",
              "      <td>67</td>\n",
              "      <td>6</td>\n",
              "      <td>4</td>\n",
              "      <td>2</td>\n",
              "      <td>0</td>\n",
              "      <td>1</td>\n",
              "    </tr>\n",
              "    <tr>\n",
              "      <th>324924</th>\n",
              "      <td>53047151</td>\n",
              "      <td>1</td>\n",
              "      <td>4</td>\n",
              "      <td>3</td>\n",
              "      <td>56</td>\n",
              "      <td>6</td>\n",
              "      <td>7</td>\n",
              "      <td>0</td>\n",
              "      <td>0</td>\n",
              "      <td>1</td>\n",
              "    </tr>\n",
              "    <tr>\n",
              "      <th>324961</th>\n",
              "      <td>53209701</td>\n",
              "      <td>1</td>\n",
              "      <td>9</td>\n",
              "      <td>5</td>\n",
              "      <td>6</td>\n",
              "      <td>6</td>\n",
              "      <td>7</td>\n",
              "      <td>5</td>\n",
              "      <td>3</td>\n",
              "      <td>1</td>\n",
              "    </tr>\n",
              "    <tr>\n",
              "      <th>325011</th>\n",
              "      <td>53455201</td>\n",
              "      <td>4</td>\n",
              "      <td>9</td>\n",
              "      <td>2</td>\n",
              "      <td>42</td>\n",
              "      <td>6</td>\n",
              "      <td>0</td>\n",
              "      <td>0</td>\n",
              "      <td>0</td>\n",
              "      <td>1</td>\n",
              "    </tr>\n",
              "  </tbody>\n",
              "</table>\n",
              "<p>13364 rows × 10 columns</p>\n",
              "</div>"
            ],
            "text/plain": [
              "        Contact ID  Average Pageviews  ...  url3  purchase\n",
              "82            2354                  1  ...     0         1\n",
              "92             233                  3  ...     4         1\n",
              "233           1239                  1  ...     0         1\n",
              "264           2150                  1  ...     6         1\n",
              "358           1123                  5  ...     3         1\n",
              "...            ...                ...  ...   ...       ...\n",
              "324915    52997151                  4  ...     0         1\n",
              "324919    53015251                  2  ...     0         1\n",
              "324924    53047151                  1  ...     0         1\n",
              "324961    53209701                  1  ...     3         1\n",
              "325011    53455201                  4  ...     0         1\n",
              "\n",
              "[13364 rows x 10 columns]"
            ]
          },
          "metadata": {
            "tags": []
          },
          "execution_count": 11
        }
      ]
    },
    {
      "cell_type": "code",
      "metadata": {
        "id": "JJpnqb8YYk14"
      },
      "source": [
        "# save to csv \r\n",
        "X.to_csv('urls_encoded.csv')"
      ],
      "execution_count": 12,
      "outputs": []
    },
    {
      "cell_type": "markdown",
      "metadata": {
        "id": "jDZKAoMsvPWF"
      },
      "source": [
        "### Create new columns for purchase year, months and day."
      ]
    },
    {
      "cell_type": "code",
      "metadata": {
        "id": "9eGIIh1Rke3m"
      },
      "source": [
        "# load data\r\n",
        "pageview_hist = pd.read_csv('pageview_hist.csv', encoding='utf-8').fillna(0)\r\n",
        "\r\n",
        "# collect indices of rows with purchase = 1\r\n",
        "c1 = X['Contact ID'].iloc[np.ravel(np.where(X['url0']==6))].astype('int64')\r\n",
        "c2 = X['Contact ID'].iloc[np.ravel(np.where(X['url1']==6))].astype('int64')\r\n",
        "c3 = X['Contact ID'].iloc[np.ravel(np.where(X['url2']==6))].astype('int64')\r\n",
        "c4 = X['Contact ID'].iloc[np.ravel(np.where(X['url3']==6))].astype('int64')\r\n",
        "\r\n",
        "contacts = [c1, c2, c3, c4]\r\n",
        "# locate index pairings between contacts and pageview_hist\r\n",
        "l1 = []\r\n",
        "for i in contacts:\r\n",
        "  loc = [np.where((pageview_hist['Contact ID'] == i) == True) \\\r\n",
        "         for i in i.to_list()]\r\n",
        "\r\n",
        "  l1.append(loc)\r\n",
        "\r\n",
        "locations = l1[0] + l1[1] + l1[2] + l1[3]"
      ],
      "execution_count": 13,
      "outputs": []
    },
    {
      "cell_type": "code",
      "metadata": {
        "colab": {
          "base_uri": "https://localhost:8080/",
          "height": 495
        },
        "id": "V6O3zaaT0B48",
        "outputId": "f083425e-e2a6-4535-fc2d-84211a4165a0"
      },
      "source": [
        "df = pageview_hist.iloc[np.ravel(locations).tolist()]\r\n",
        "\r\n",
        "df1 = df['Last Page Seen Change Date'].str.split(expand=True)\r\n",
        "df2 = df1[0].str.split(expand=True)\r\n",
        "df3 = df2[0].str.split('-', expand=True)\r\n",
        "\r\n",
        "rl = [np.where((X['Contact ID'] == i) == True) for i in\\\r\n",
        "      pageview_hist['Contact ID'].iloc[df3.index].to_list()]\r\n",
        "\r\n",
        "X['year'] = 0\r\n",
        "X['month'] = 0\r\n",
        "X['day'] = 0\r\n",
        "\r\n",
        "X['year'].iloc[np.ravel(rl).tolist()] = df3[0]\r\n",
        "X['month'].iloc[np.ravel(rl).tolist()] = df3[1]\r\n",
        "X['day'].iloc[np.ravel(rl).tolist()] = df3[2]\r\n",
        "\r\n",
        "X.iloc[np.where(X['purchase'] == 1)]"
      ],
      "execution_count": 14,
      "outputs": [
        {
          "output_type": "stream",
          "text": [
            "/usr/local/lib/python3.6/dist-packages/pandas/core/indexing.py:670: SettingWithCopyWarning: \n",
            "A value is trying to be set on a copy of a slice from a DataFrame\n",
            "\n",
            "See the caveats in the documentation: https://pandas.pydata.org/pandas-docs/stable/user_guide/indexing.html#returning-a-view-versus-a-copy\n",
            "  iloc._setitem_with_indexer(indexer, value)\n"
          ],
          "name": "stderr"
        },
        {
          "output_type": "execute_result",
          "data": {
            "text/html": [
              "<div>\n",
              "<style scoped>\n",
              "    .dataframe tbody tr th:only-of-type {\n",
              "        vertical-align: middle;\n",
              "    }\n",
              "\n",
              "    .dataframe tbody tr th {\n",
              "        vertical-align: top;\n",
              "    }\n",
              "\n",
              "    .dataframe thead th {\n",
              "        text-align: right;\n",
              "    }\n",
              "</style>\n",
              "<table border=\"1\" class=\"dataframe\">\n",
              "  <thead>\n",
              "    <tr style=\"text-align: right;\">\n",
              "      <th></th>\n",
              "      <th>Contact ID</th>\n",
              "      <th>Average Pageviews</th>\n",
              "      <th>Number of Pageviews</th>\n",
              "      <th>Number of Sessions</th>\n",
              "      <th>IP Country</th>\n",
              "      <th>url0</th>\n",
              "      <th>url1</th>\n",
              "      <th>url2</th>\n",
              "      <th>url3</th>\n",
              "      <th>purchase</th>\n",
              "      <th>year</th>\n",
              "      <th>month</th>\n",
              "      <th>day</th>\n",
              "    </tr>\n",
              "  </thead>\n",
              "  <tbody>\n",
              "    <tr>\n",
              "      <th>82</th>\n",
              "      <td>2354</td>\n",
              "      <td>1</td>\n",
              "      <td>5</td>\n",
              "      <td>3</td>\n",
              "      <td>6</td>\n",
              "      <td>6</td>\n",
              "      <td>7</td>\n",
              "      <td>3</td>\n",
              "      <td>0</td>\n",
              "      <td>1</td>\n",
              "      <td>2020</td>\n",
              "      <td>09</td>\n",
              "      <td>30</td>\n",
              "    </tr>\n",
              "    <tr>\n",
              "      <th>92</th>\n",
              "      <td>233</td>\n",
              "      <td>3</td>\n",
              "      <td>7</td>\n",
              "      <td>2</td>\n",
              "      <td>0</td>\n",
              "      <td>6</td>\n",
              "      <td>7</td>\n",
              "      <td>1</td>\n",
              "      <td>4</td>\n",
              "      <td>1</td>\n",
              "      <td>2020</td>\n",
              "      <td>09</td>\n",
              "      <td>29</td>\n",
              "    </tr>\n",
              "    <tr>\n",
              "      <th>233</th>\n",
              "      <td>1239</td>\n",
              "      <td>1</td>\n",
              "      <td>1</td>\n",
              "      <td>1</td>\n",
              "      <td>6</td>\n",
              "      <td>6</td>\n",
              "      <td>0</td>\n",
              "      <td>0</td>\n",
              "      <td>0</td>\n",
              "      <td>1</td>\n",
              "      <td>2020</td>\n",
              "      <td>09</td>\n",
              "      <td>28</td>\n",
              "    </tr>\n",
              "    <tr>\n",
              "      <th>264</th>\n",
              "      <td>2150</td>\n",
              "      <td>1</td>\n",
              "      <td>6</td>\n",
              "      <td>4</td>\n",
              "      <td>14</td>\n",
              "      <td>6</td>\n",
              "      <td>2</td>\n",
              "      <td>3</td>\n",
              "      <td>6</td>\n",
              "      <td>1</td>\n",
              "      <td>2020</td>\n",
              "      <td>06</td>\n",
              "      <td>19</td>\n",
              "    </tr>\n",
              "    <tr>\n",
              "      <th>358</th>\n",
              "      <td>1123</td>\n",
              "      <td>5</td>\n",
              "      <td>5</td>\n",
              "      <td>1</td>\n",
              "      <td>18</td>\n",
              "      <td>6</td>\n",
              "      <td>3</td>\n",
              "      <td>6</td>\n",
              "      <td>3</td>\n",
              "      <td>1</td>\n",
              "      <td>2019</td>\n",
              "      <td>12</td>\n",
              "      <td>01</td>\n",
              "    </tr>\n",
              "    <tr>\n",
              "      <th>...</th>\n",
              "      <td>...</td>\n",
              "      <td>...</td>\n",
              "      <td>...</td>\n",
              "      <td>...</td>\n",
              "      <td>...</td>\n",
              "      <td>...</td>\n",
              "      <td>...</td>\n",
              "      <td>...</td>\n",
              "      <td>...</td>\n",
              "      <td>...</td>\n",
              "      <td>...</td>\n",
              "      <td>...</td>\n",
              "      <td>...</td>\n",
              "    </tr>\n",
              "    <tr>\n",
              "      <th>324915</th>\n",
              "      <td>52997151</td>\n",
              "      <td>4</td>\n",
              "      <td>4</td>\n",
              "      <td>1</td>\n",
              "      <td>6</td>\n",
              "      <td>6</td>\n",
              "      <td>7</td>\n",
              "      <td>5</td>\n",
              "      <td>0</td>\n",
              "      <td>1</td>\n",
              "      <td>2020</td>\n",
              "      <td>11</td>\n",
              "      <td>13</td>\n",
              "    </tr>\n",
              "    <tr>\n",
              "      <th>324919</th>\n",
              "      <td>53015251</td>\n",
              "      <td>2</td>\n",
              "      <td>5</td>\n",
              "      <td>2</td>\n",
              "      <td>67</td>\n",
              "      <td>6</td>\n",
              "      <td>4</td>\n",
              "      <td>2</td>\n",
              "      <td>0</td>\n",
              "      <td>1</td>\n",
              "      <td>2020</td>\n",
              "      <td>11</td>\n",
              "      <td>13</td>\n",
              "    </tr>\n",
              "    <tr>\n",
              "      <th>324924</th>\n",
              "      <td>53047151</td>\n",
              "      <td>1</td>\n",
              "      <td>4</td>\n",
              "      <td>3</td>\n",
              "      <td>56</td>\n",
              "      <td>6</td>\n",
              "      <td>7</td>\n",
              "      <td>0</td>\n",
              "      <td>0</td>\n",
              "      <td>1</td>\n",
              "      <td>2020</td>\n",
              "      <td>11</td>\n",
              "      <td>13</td>\n",
              "    </tr>\n",
              "    <tr>\n",
              "      <th>324961</th>\n",
              "      <td>53209701</td>\n",
              "      <td>1</td>\n",
              "      <td>9</td>\n",
              "      <td>5</td>\n",
              "      <td>6</td>\n",
              "      <td>6</td>\n",
              "      <td>7</td>\n",
              "      <td>5</td>\n",
              "      <td>3</td>\n",
              "      <td>1</td>\n",
              "      <td>2020</td>\n",
              "      <td>11</td>\n",
              "      <td>16</td>\n",
              "    </tr>\n",
              "    <tr>\n",
              "      <th>325011</th>\n",
              "      <td>53455201</td>\n",
              "      <td>4</td>\n",
              "      <td>9</td>\n",
              "      <td>2</td>\n",
              "      <td>42</td>\n",
              "      <td>6</td>\n",
              "      <td>0</td>\n",
              "      <td>0</td>\n",
              "      <td>0</td>\n",
              "      <td>1</td>\n",
              "      <td>2020</td>\n",
              "      <td>11</td>\n",
              "      <td>17</td>\n",
              "    </tr>\n",
              "  </tbody>\n",
              "</table>\n",
              "<p>13364 rows × 13 columns</p>\n",
              "</div>"
            ],
            "text/plain": [
              "        Contact ID  Average Pageviews  Number of Pageviews  ...  year  month  day\n",
              "82            2354                  1                    5  ...  2020     09   30\n",
              "92             233                  3                    7  ...  2020     09   29\n",
              "233           1239                  1                    1  ...  2020     09   28\n",
              "264           2150                  1                    6  ...  2020     06   19\n",
              "358           1123                  5                    5  ...  2019     12   01\n",
              "...            ...                ...                  ...  ...   ...    ...  ...\n",
              "324915    52997151                  4                    4  ...  2020     11   13\n",
              "324919    53015251                  2                    5  ...  2020     11   13\n",
              "324924    53047151                  1                    4  ...  2020     11   13\n",
              "324961    53209701                  1                    9  ...  2020     11   16\n",
              "325011    53455201                  4                    9  ...  2020     11   17\n",
              "\n",
              "[13364 rows x 13 columns]"
            ]
          },
          "metadata": {
            "tags": []
          },
          "execution_count": 14
        }
      ]
    },
    {
      "cell_type": "code",
      "metadata": {
        "colab": {
          "base_uri": "https://localhost:8080/"
        },
        "id": "8eynd_iFVLC6",
        "outputId": "ca96a7de-9930-446e-dbde-c6caca0a42cb"
      },
      "source": [
        "df = pageview_hist.iloc[np.ravel(locations).tolist()]\r\n",
        "\r\n",
        "df1 = df['Last Page Seen Change Date']\r\n",
        "\r\n",
        "rl = [np.where((X['Contact ID'] == i) == True) for i in\\\r\n",
        "      pageview_hist['Contact ID'].iloc[df1.index].to_list()]\r\n",
        "\r\n",
        "X['event_time'] = 0\r\n",
        "\r\n",
        "X['event_time'].iloc[np.ravel(rl).tolist()] = df1"
      ],
      "execution_count": 15,
      "outputs": [
        {
          "output_type": "stream",
          "text": [
            "/usr/local/lib/python3.6/dist-packages/pandas/core/indexing.py:670: SettingWithCopyWarning: \n",
            "A value is trying to be set on a copy of a slice from a DataFrame\n",
            "\n",
            "See the caveats in the documentation: https://pandas.pydata.org/pandas-docs/stable/user_guide/indexing.html#returning-a-view-versus-a-copy\n",
            "  iloc._setitem_with_indexer(indexer, value)\n"
          ],
          "name": "stderr"
        }
      ]
    },
    {
      "cell_type": "code",
      "metadata": {
        "id": "FhkuM-qnZktp",
        "colab": {
          "base_uri": "https://localhost:8080/"
        },
        "outputId": "6f1a3192-6c1a-4ab0-e2a6-13b108543d6c"
      },
      "source": [
        "# get list of columns\r\n",
        "cols = X.columns.tolist()\r\n",
        "# move last element to front position\r\n",
        "cols = cols[-1:] + cols[:-1]\r\n",
        "# store reorganized and encoded array in train\r\n",
        "train = X[cols]\r\n",
        "# convert column event_time from object to datetime\r\n",
        "#train['event_time'] = train['event_time'].astype('datetime64[ns]')\r\n",
        "# convert column year from object to datetime\r\n",
        "train['year'] = train['year'].astype('int64')\r\n",
        "# convert column month from object to datetime\r\n",
        "train['month'] = train['month'].astype('int64')\r\n",
        "# convert column day from object to datetime\r\n",
        "train['day'] = train['day'].astype('int64')\r\n",
        "# check dtypes of train\r\n",
        "train.info()\r\n",
        "\r\n",
        "# save file\r\n",
        "train.to_csv('train.csv')"
      ],
      "execution_count": 16,
      "outputs": [
        {
          "output_type": "stream",
          "text": [
            "<class 'pandas.core.frame.DataFrame'>\n",
            "Int64Index: 90345 entries, 5 to 325021\n",
            "Data columns (total 14 columns):\n",
            " #   Column               Non-Null Count  Dtype \n",
            "---  ------               --------------  ----- \n",
            " 0   event_time           90345 non-null  object\n",
            " 1   Contact ID           90345 non-null  int64 \n",
            " 2   Average Pageviews    90345 non-null  int64 \n",
            " 3   Number of Pageviews  90345 non-null  int64 \n",
            " 4   Number of Sessions   90345 non-null  int64 \n",
            " 5   IP Country           90345 non-null  int64 \n",
            " 6   url0                 90345 non-null  int64 \n",
            " 7   url1                 90345 non-null  int64 \n",
            " 8   url2                 90345 non-null  int64 \n",
            " 9   url3                 90345 non-null  int64 \n",
            " 10  purchase             90345 non-null  int64 \n",
            " 11  year                 90345 non-null  int64 \n",
            " 12  month                90345 non-null  int64 \n",
            " 13  day                  90345 non-null  int64 \n",
            "dtypes: int64(13), object(1)\n",
            "memory usage: 10.3+ MB\n"
          ],
          "name": "stdout"
        }
      ]
    },
    {
      "cell_type": "markdown",
      "metadata": {
        "id": "gZi65TaZ_syq"
      },
      "source": [
        "### Prepare sequence data"
      ]
    },
    {
      "cell_type": "code",
      "metadata": {
        "colab": {
          "base_uri": "https://localhost:8080/",
          "height": 137
        },
        "id": "_xSMVI1npsVI",
        "outputId": "1d340f96-a777-4eb5-d097-c09c6c888716"
      },
      "source": [
        "# list column names to aid arrangement selection of features\r\n",
        "cols = ['event_time','Contact ID','Average Pageviews','Number of Pageviews',\r\n",
        " 'Number of Sessions','IP Country','url0','url1','url2','url3','year',\r\n",
        " 'month','day','purchase',]\r\n",
        "\r\n",
        "# find event times that aren't zero \r\n",
        "non_zeros = train['event_time'].iloc[np.where(train['event_time'] != 0)].astype('datetime64[ns]')\r\n",
        "# store the event times in new column \"event_time\"\r\n",
        "train['event_time'] = non_zeros \r\n",
        "# replace NaNs with 0s\r\n",
        "train = train.fillna(0)\r\n",
        "\r\n",
        "# sanity check\r\n",
        "train.iloc[np.where(train['event_time']!=0)].sort_values('event_time').head(3)"
      ],
      "execution_count": 17,
      "outputs": [
        {
          "output_type": "execute_result",
          "data": {
            "text/html": [
              "<div>\n",
              "<style scoped>\n",
              "    .dataframe tbody tr th:only-of-type {\n",
              "        vertical-align: middle;\n",
              "    }\n",
              "\n",
              "    .dataframe tbody tr th {\n",
              "        vertical-align: top;\n",
              "    }\n",
              "\n",
              "    .dataframe thead th {\n",
              "        text-align: right;\n",
              "    }\n",
              "</style>\n",
              "<table border=\"1\" class=\"dataframe\">\n",
              "  <thead>\n",
              "    <tr style=\"text-align: right;\">\n",
              "      <th></th>\n",
              "      <th>event_time</th>\n",
              "      <th>Contact ID</th>\n",
              "      <th>Average Pageviews</th>\n",
              "      <th>Number of Pageviews</th>\n",
              "      <th>Number of Sessions</th>\n",
              "      <th>IP Country</th>\n",
              "      <th>url0</th>\n",
              "      <th>url1</th>\n",
              "      <th>url2</th>\n",
              "      <th>url3</th>\n",
              "      <th>purchase</th>\n",
              "      <th>year</th>\n",
              "      <th>month</th>\n",
              "      <th>day</th>\n",
              "    </tr>\n",
              "  </thead>\n",
              "  <tbody>\n",
              "    <tr>\n",
              "      <th>75073</th>\n",
              "      <td>2019-08-14 05:42:00</td>\n",
              "      <td>202025</td>\n",
              "      <td>2</td>\n",
              "      <td>5</td>\n",
              "      <td>2</td>\n",
              "      <td>8</td>\n",
              "      <td>4</td>\n",
              "      <td>3</td>\n",
              "      <td>6</td>\n",
              "      <td>3</td>\n",
              "      <td>1</td>\n",
              "      <td>2019</td>\n",
              "      <td>8</td>\n",
              "      <td>14</td>\n",
              "    </tr>\n",
              "    <tr>\n",
              "      <th>96600</th>\n",
              "      <td>2019-08-14 19:28:00</td>\n",
              "      <td>228989</td>\n",
              "      <td>2</td>\n",
              "      <td>2</td>\n",
              "      <td>1</td>\n",
              "      <td>22</td>\n",
              "      <td>6</td>\n",
              "      <td>3</td>\n",
              "      <td>0</td>\n",
              "      <td>0</td>\n",
              "      <td>1</td>\n",
              "      <td>2019</td>\n",
              "      <td>8</td>\n",
              "      <td>14</td>\n",
              "    </tr>\n",
              "    <tr>\n",
              "      <th>27356</th>\n",
              "      <td>2019-08-14 19:31:00</td>\n",
              "      <td>99062</td>\n",
              "      <td>7</td>\n",
              "      <td>7</td>\n",
              "      <td>1</td>\n",
              "      <td>6</td>\n",
              "      <td>6</td>\n",
              "      <td>14</td>\n",
              "      <td>4</td>\n",
              "      <td>8</td>\n",
              "      <td>1</td>\n",
              "      <td>2019</td>\n",
              "      <td>8</td>\n",
              "      <td>14</td>\n",
              "    </tr>\n",
              "  </tbody>\n",
              "</table>\n",
              "</div>"
            ],
            "text/plain": [
              "                event_time  Contact ID  Average Pageviews  ...  year  month  day\n",
              "75073  2019-08-14 05:42:00      202025                  2  ...  2019      8   14\n",
              "96600  2019-08-14 19:28:00      228989                  2  ...  2019      8   14\n",
              "27356  2019-08-14 19:31:00       99062                  7  ...  2019      8   14\n",
              "\n",
              "[3 rows x 14 columns]"
            ]
          },
          "metadata": {
            "tags": []
          },
          "execution_count": 17
        }
      ]
    },
    {
      "cell_type": "code",
      "metadata": {
        "colab": {
          "base_uri": "https://localhost:8080/"
        },
        "id": "PIEnrC04ctOB",
        "outputId": "3320c69b-c174-42da-89c3-4d48330af901"
      },
      "source": [
        "# colate url sequences by user\r\n",
        "sequences = []\r\n",
        "\r\n",
        "for i in range(len(train)):\r\n",
        "  sequences.append([train['url0'].iloc[i], train['url1'].iloc[i], \r\n",
        "                    train['url2'].iloc[i], train['url3'].iloc[i]]\r\n",
        "                   )\r\n",
        "# sanity check\r\n",
        "sequences[:5]"
      ],
      "execution_count": 18,
      "outputs": [
        {
          "output_type": "execute_result",
          "data": {
            "text/plain": [
              "[[1, 3, 0, 0], [2, 3, 0, 0], [3, 0, 0, 0], [3, 0, 0, 0], [4, 0, 0, 0]]"
            ]
          },
          "metadata": {
            "tags": []
          },
          "execution_count": 18
        }
      ]
    },
    {
      "cell_type": "code",
      "metadata": {
        "colab": {
          "base_uri": "https://localhost:8080/"
        },
        "id": "4O2teO0Pn8ph",
        "outputId": "9d4c4605-6d3e-4aa5-8ee1-f2469a81999f"
      },
      "source": [
        "# sequences containing zeros\r\n",
        "zeros = list(filter(lambda x: 0 in x[1], enumerate(sequences)))\r\n",
        "\r\n",
        "# updata data with new sequences\r\n",
        "train['sequence'] = sequences\r\n",
        "\r\n",
        "# create array of events\r\n",
        "event = np.array((train['sequence'].to_list())).astype('int64')\r\n",
        "\r\n",
        "# one hot encode the purchase labels\r\n",
        "y = np.array(pd.get_dummies(train['purchase']))\r\n",
        "z = np.sum(y[:,1])/len(y)\r\n",
        "print(\"Percentage of purchase sessions:\", z*100)"
      ],
      "execution_count": 19,
      "outputs": [
        {
          "output_type": "stream",
          "text": [
            "Percentage of purchase sessions: 14.792185511096353\n"
          ],
          "name": "stdout"
        }
      ]
    },
    {
      "cell_type": "code",
      "metadata": {
        "colab": {
          "base_uri": "https://localhost:8080/"
        },
        "id": "YQjQ5ZDGOaLU",
        "outputId": "d161df34-d1be-4642-c89e-b05e040c242b"
      },
      "source": [
        "# perform 70/30 split\r\n",
        "from sklearn.model_selection import train_test_split\r\n",
        "\r\n",
        "def prepare_train_test_data(data,y):\r\n",
        "  #input is data[nxd] and Y[nx2], outputs 70/30 split formatted for the sequence models\r\n",
        "  X_train, X_test, y_train, y_test = train_test_split(data, y,                              \r\n",
        "                                                    test_size=0.3)\r\n",
        "  #Resizing is necessary since input to sequence models is (1,d)\r\n",
        "  X_train = X_train.reshape((X_train.shape[0], 1, X_train.shape[1]))\r\n",
        "  X_test = X_test.reshape((X_test.shape[0], 1, X_test.shape[1]))\r\n",
        "  return (X_train,X_test,y_train,y_test)  \r\n",
        "\r\n",
        "xtrain, xtest, ytrain, ytest = prepare_train_test_data(event, y)\r\n",
        "print(xtrain.shape, ytrain.shape)"
      ],
      "execution_count": 24,
      "outputs": [
        {
          "output_type": "stream",
          "text": [
            "(63241, 1, 4) (63241, 2)\n"
          ],
          "name": "stdout"
        }
      ]
    },
    {
      "cell_type": "markdown",
      "metadata": {
        "id": "ZcpFOe7Nr7Zp"
      },
      "source": [
        "### Model Assembly"
      ]
    },
    {
      "cell_type": "code",
      "metadata": {
        "id": "dmOR2zXTs1uT"
      },
      "source": [
        "# Helper functions...\r\n",
        "import matplotlib.pyplot as plt\r\n",
        "from sklearn.metrics import confusion_matrix\r\n",
        "\r\n",
        "# ...for calculating metrics\r\n",
        "from sklearn.datasets import make_circles\r\n",
        "from sklearn.metrics import accuracy_score\r\n",
        "from sklearn.metrics import precision_score\r\n",
        "from sklearn.metrics import recall_score\r\n",
        "from sklearn.metrics import f1_score\r\n",
        "from sklearn.metrics import cohen_kappa_score\r\n",
        "from sklearn.metrics import roc_auc_score\r\n",
        "\r\n",
        "def plot_history(history):\r\n",
        "  # This function will plot the model fit process\r\n",
        "  print(history.history.keys())\r\n",
        "  # summarize history for accuracy\r\n",
        "  plt.plot(history.history['acc'])\r\n",
        "  plt.plot(history.history['val_acc'])\r\n",
        "  plt.title('model accuracy')\r\n",
        "  plt.ylabel('acc')\r\n",
        "  plt.xlabel('epoch')\r\n",
        "  plt.legend(['train', 'test'], loc='upper left')\r\n",
        "  plt.show()\r\n",
        "  # summarize history for loss\r\n",
        "  plt.plot(history.history['loss'])\r\n",
        "  plt.plot(history.history['val_loss'])\r\n",
        "  plt.title('model loss')\r\n",
        "  plt.ylabel('loss')\r\n",
        "  plt.xlabel('epoch')\r\n",
        "  plt.legend(['train', 'test'], loc='upper left')\r\n",
        "  plt.show()\r\n",
        "\r\n",
        "\r\n",
        "def evaluate_on_test(X_test, y_test, training_model):\r\n",
        "  #This function will evaluate the fit model on test data\r\n",
        "  g_preds=training_model.predict_classes(X_test)\r\n",
        "  gaccuracy = accuracy_score(y_test[:,1], g_preds)\r\n",
        "  print('Accuracy: %f' % gaccuracy)\r\n",
        "  # precision tp / (tp + fp)\r\n",
        "  gprecision = precision_score(y_test[:,1], g_preds)\r\n",
        "  print('Precision: %f' % gprecision)\r\n",
        "  # recall: tp / (tp + fn)\r\n",
        "  grecall = recall_score(y_test[:,1], g_preds)\r\n",
        "  print('Recall: %f' % grecall)\r\n",
        "  # f1: 2 tp / (2 tp + fp + fn)\r\n",
        "  gf1 = f1_score(y_test[:,1], g_preds)\r\n",
        "  print('F1 score: %f' % gf1)"
      ],
      "execution_count": 29,
      "outputs": []
    },
    {
      "cell_type": "code",
      "metadata": {
        "id": "xIJBhY32r8EC"
      },
      "source": [
        "from tensorflow.keras.layers import GRU\r\n",
        "from keras.layers import Dense, LSTM, Bidirectional\r\n",
        "from keras.models import Sequential\r\n",
        "\r\n",
        "def LSTM_model(neurons=40, op=10):\r\n",
        "  model = Sequential()\r\n",
        "  model.add(Bidirectional(LSTM(neurons, return_sequences=True), input_shape=(1,op)))\r\n",
        "  model.add(GRU(neurons, return_sequences=True))\r\n",
        "  model.add(Bidirectional(LSTM(2*neurons)))\r\n",
        "  model.add(Dense(2, activation='softmax'))\r\n",
        "  model.compile(\r\n",
        "      optimizer=tf.optimizers.Adam(learning_rate=1e-3),\r\n",
        "      loss='binary_crossentropy',\r\n",
        "      metrics=['acc'])\r\n",
        "  return model"
      ],
      "execution_count": 32,
      "outputs": []
    },
    {
      "cell_type": "code",
      "metadata": {
        "colab": {
          "base_uri": "https://localhost:8080/"
        },
        "id": "T6bh19iXPG60",
        "outputId": "c3962678-8af2-4a13-ca49-33b7ed4af03f"
      },
      "source": [
        "tf.keras.backend.clear_session()\r\n",
        "training_model = LSTM_model(neurons=40, op=4)\r\n",
        "training_model.summary()"
      ],
      "execution_count": 33,
      "outputs": [
        {
          "output_type": "stream",
          "text": [
            "Model: \"sequential\"\n",
            "_________________________________________________________________\n",
            "Layer (type)                 Output Shape              Param #   \n",
            "=================================================================\n",
            "bidirectional (Bidirectional (None, 1, 80)             14400     \n",
            "_________________________________________________________________\n",
            "gru (GRU)                    (None, 1, 40)             14640     \n",
            "_________________________________________________________________\n",
            "bidirectional_1 (Bidirection (None, 160)               77440     \n",
            "_________________________________________________________________\n",
            "dense (Dense)                (None, 2)                 322       \n",
            "=================================================================\n",
            "Total params: 106,802\n",
            "Trainable params: 106,802\n",
            "Non-trainable params: 0\n",
            "_________________________________________________________________\n"
          ],
          "name": "stdout"
        }
      ]
    },
    {
      "cell_type": "code",
      "metadata": {
        "colab": {
          "base_uri": "https://localhost:8080/"
        },
        "id": "HcjA-xGCPamV",
        "outputId": "883aafe8-f23d-4df0-9b38-29a9a4dafe5a"
      },
      "source": [
        "l_history = training_model.fit(xtrain, ytrain,\r\n",
        "                               epochs=100,\r\n",
        "                               batch_size=3000,\r\n",
        "                               validation_split=0.2)"
      ],
      "execution_count": 34,
      "outputs": [
        {
          "output_type": "stream",
          "text": [
            "Epoch 1/100\n",
            "17/17 [==============================] - 11s 216ms/step - loss: 0.6771 - acc: 0.7157 - val_loss: 0.5918 - val_acc: 0.8540\n",
            "Epoch 2/100\n",
            "17/17 [==============================] - 2s 102ms/step - loss: 0.5435 - acc: 0.8506 - val_loss: 0.4063 - val_acc: 0.8540\n",
            "Epoch 3/100\n",
            "17/17 [==============================] - 2s 113ms/step - loss: 0.3859 - acc: 0.8536 - val_loss: 0.3409 - val_acc: 0.8601\n",
            "Epoch 4/100\n",
            "17/17 [==============================] - 2s 102ms/step - loss: 0.3353 - acc: 0.8602 - val_loss: 0.3205 - val_acc: 0.8640\n",
            "Epoch 5/100\n",
            "17/17 [==============================] - 2s 103ms/step - loss: 0.3173 - acc: 0.8638 - val_loss: 0.3014 - val_acc: 0.8671\n",
            "Epoch 6/100\n",
            "17/17 [==============================] - 2s 103ms/step - loss: 0.3014 - acc: 0.8627 - val_loss: 0.2850 - val_acc: 0.8705\n",
            "Epoch 7/100\n",
            "17/17 [==============================] - 2s 103ms/step - loss: 0.2810 - acc: 0.8796 - val_loss: 0.2703 - val_acc: 0.8793\n",
            "Epoch 8/100\n",
            "17/17 [==============================] - 2s 103ms/step - loss: 0.2661 - acc: 0.8776 - val_loss: 0.2612 - val_acc: 0.8770\n",
            "Epoch 9/100\n",
            "17/17 [==============================] - 2s 106ms/step - loss: 0.2604 - acc: 0.8735 - val_loss: 0.2558 - val_acc: 0.8783\n",
            "Epoch 10/100\n",
            "17/17 [==============================] - 2s 106ms/step - loss: 0.2539 - acc: 0.8777 - val_loss: 0.2517 - val_acc: 0.8791\n",
            "Epoch 11/100\n",
            "17/17 [==============================] - 2s 104ms/step - loss: 0.2522 - acc: 0.8756 - val_loss: 0.2485 - val_acc: 0.8821\n",
            "Epoch 12/100\n",
            "17/17 [==============================] - 2s 104ms/step - loss: 0.2474 - acc: 0.8807 - val_loss: 0.2458 - val_acc: 0.8820\n",
            "Epoch 13/100\n",
            "17/17 [==============================] - 2s 103ms/step - loss: 0.2483 - acc: 0.8819 - val_loss: 0.2438 - val_acc: 0.8847\n",
            "Epoch 14/100\n",
            "17/17 [==============================] - 2s 104ms/step - loss: 0.2411 - acc: 0.8845 - val_loss: 0.2416 - val_acc: 0.8847\n",
            "Epoch 15/100\n",
            "17/17 [==============================] - 2s 103ms/step - loss: 0.2404 - acc: 0.8843 - val_loss: 0.2395 - val_acc: 0.8853\n",
            "Epoch 16/100\n",
            "17/17 [==============================] - 2s 105ms/step - loss: 0.2373 - acc: 0.8870 - val_loss: 0.2377 - val_acc: 0.8853\n",
            "Epoch 17/100\n",
            "17/17 [==============================] - 2s 103ms/step - loss: 0.2393 - acc: 0.8851 - val_loss: 0.2360 - val_acc: 0.8860\n",
            "Epoch 18/100\n",
            "17/17 [==============================] - 2s 106ms/step - loss: 0.2362 - acc: 0.8868 - val_loss: 0.2336 - val_acc: 0.8872\n",
            "Epoch 19/100\n",
            "17/17 [==============================] - 2s 107ms/step - loss: 0.2324 - acc: 0.8859 - val_loss: 0.2314 - val_acc: 0.8881\n",
            "Epoch 20/100\n",
            "17/17 [==============================] - 2s 102ms/step - loss: 0.2297 - acc: 0.8879 - val_loss: 0.2288 - val_acc: 0.8886\n",
            "Epoch 21/100\n",
            "17/17 [==============================] - 2s 103ms/step - loss: 0.2259 - acc: 0.8898 - val_loss: 0.2255 - val_acc: 0.8887\n",
            "Epoch 22/100\n",
            "17/17 [==============================] - 2s 105ms/step - loss: 0.2241 - acc: 0.8923 - val_loss: 0.2218 - val_acc: 0.9005\n",
            "Epoch 23/100\n",
            "17/17 [==============================] - 2s 101ms/step - loss: 0.2202 - acc: 0.9029 - val_loss: 0.2172 - val_acc: 0.9017\n",
            "Epoch 24/100\n",
            "17/17 [==============================] - 2s 104ms/step - loss: 0.2147 - acc: 0.8982 - val_loss: 0.2118 - val_acc: 0.8897\n",
            "Epoch 25/100\n",
            "17/17 [==============================] - 2s 101ms/step - loss: 0.2089 - acc: 0.9028 - val_loss: 0.2041 - val_acc: 0.9019\n",
            "Epoch 26/100\n",
            "17/17 [==============================] - 2s 104ms/step - loss: 0.2030 - acc: 0.9082 - val_loss: 0.1955 - val_acc: 0.9174\n",
            "Epoch 27/100\n",
            "17/17 [==============================] - 2s 104ms/step - loss: 0.1921 - acc: 0.9147 - val_loss: 0.1830 - val_acc: 0.9161\n",
            "Epoch 28/100\n",
            "17/17 [==============================] - 2s 102ms/step - loss: 0.1793 - acc: 0.9164 - val_loss: 0.1701 - val_acc: 0.9206\n",
            "Epoch 29/100\n",
            "17/17 [==============================] - 2s 104ms/step - loss: 0.1657 - acc: 0.9218 - val_loss: 0.1564 - val_acc: 0.9341\n",
            "Epoch 30/100\n",
            "17/17 [==============================] - 2s 102ms/step - loss: 0.1494 - acc: 0.9339 - val_loss: 0.1450 - val_acc: 0.9345\n",
            "Epoch 31/100\n",
            "17/17 [==============================] - 2s 102ms/step - loss: 0.1399 - acc: 0.9370 - val_loss: 0.1369 - val_acc: 0.9418\n",
            "Epoch 32/100\n",
            "17/17 [==============================] - 2s 102ms/step - loss: 0.1339 - acc: 0.9421 - val_loss: 0.1311 - val_acc: 0.9418\n",
            "Epoch 33/100\n",
            "17/17 [==============================] - 2s 103ms/step - loss: 0.1281 - acc: 0.9411 - val_loss: 0.1278 - val_acc: 0.9466\n",
            "Epoch 34/100\n",
            "17/17 [==============================] - 2s 104ms/step - loss: 0.1248 - acc: 0.9451 - val_loss: 0.1250 - val_acc: 0.9494\n",
            "Epoch 35/100\n",
            "17/17 [==============================] - 2s 104ms/step - loss: 0.1225 - acc: 0.9470 - val_loss: 0.1220 - val_acc: 0.9485\n",
            "Epoch 36/100\n",
            "17/17 [==============================] - 2s 103ms/step - loss: 0.1191 - acc: 0.9480 - val_loss: 0.1214 - val_acc: 0.9488\n",
            "Epoch 37/100\n",
            "17/17 [==============================] - 2s 103ms/step - loss: 0.1156 - acc: 0.9482 - val_loss: 0.1185 - val_acc: 0.9492\n",
            "Epoch 38/100\n",
            "17/17 [==============================] - 2s 103ms/step - loss: 0.1182 - acc: 0.9470 - val_loss: 0.1171 - val_acc: 0.9470\n",
            "Epoch 39/100\n",
            "17/17 [==============================] - 2s 102ms/step - loss: 0.1142 - acc: 0.9481 - val_loss: 0.1166 - val_acc: 0.9488\n",
            "Epoch 40/100\n",
            "17/17 [==============================] - 2s 102ms/step - loss: 0.1145 - acc: 0.9482 - val_loss: 0.1153 - val_acc: 0.9472\n",
            "Epoch 41/100\n",
            "17/17 [==============================] - 2s 105ms/step - loss: 0.1136 - acc: 0.9483 - val_loss: 0.1140 - val_acc: 0.9514\n",
            "Epoch 42/100\n",
            "17/17 [==============================] - 2s 103ms/step - loss: 0.1127 - acc: 0.9490 - val_loss: 0.1132 - val_acc: 0.9495\n",
            "Epoch 43/100\n",
            "17/17 [==============================] - 2s 103ms/step - loss: 0.1112 - acc: 0.9495 - val_loss: 0.1125 - val_acc: 0.9479\n",
            "Epoch 44/100\n",
            "17/17 [==============================] - 2s 103ms/step - loss: 0.1082 - acc: 0.9493 - val_loss: 0.1107 - val_acc: 0.9492\n",
            "Epoch 45/100\n",
            "17/17 [==============================] - 2s 102ms/step - loss: 0.1058 - acc: 0.9509 - val_loss: 0.1098 - val_acc: 0.9500\n",
            "Epoch 46/100\n",
            "17/17 [==============================] - 2s 103ms/step - loss: 0.1075 - acc: 0.9511 - val_loss: 0.1096 - val_acc: 0.9483\n",
            "Epoch 47/100\n",
            "17/17 [==============================] - 2s 105ms/step - loss: 0.1061 - acc: 0.9515 - val_loss: 0.1076 - val_acc: 0.9500\n",
            "Epoch 48/100\n",
            "17/17 [==============================] - 2s 103ms/step - loss: 0.1068 - acc: 0.9497 - val_loss: 0.1072 - val_acc: 0.9519\n",
            "Epoch 49/100\n",
            "17/17 [==============================] - 2s 103ms/step - loss: 0.1051 - acc: 0.9523 - val_loss: 0.1056 - val_acc: 0.9525\n",
            "Epoch 50/100\n",
            "17/17 [==============================] - 2s 102ms/step - loss: 0.1041 - acc: 0.9524 - val_loss: 0.1050 - val_acc: 0.9519\n",
            "Epoch 51/100\n",
            "17/17 [==============================] - 2s 103ms/step - loss: 0.1004 - acc: 0.9546 - val_loss: 0.1042 - val_acc: 0.9537\n",
            "Epoch 52/100\n",
            "17/17 [==============================] - 2s 103ms/step - loss: 0.1018 - acc: 0.9534 - val_loss: 0.1027 - val_acc: 0.9525\n",
            "Epoch 53/100\n",
            "17/17 [==============================] - 2s 105ms/step - loss: 0.1002 - acc: 0.9538 - val_loss: 0.1030 - val_acc: 0.9541\n",
            "Epoch 54/100\n",
            "17/17 [==============================] - 2s 103ms/step - loss: 0.0989 - acc: 0.9558 - val_loss: 0.1007 - val_acc: 0.9558\n",
            "Epoch 55/100\n",
            "17/17 [==============================] - 2s 102ms/step - loss: 0.0960 - acc: 0.9565 - val_loss: 0.1010 - val_acc: 0.9558\n",
            "Epoch 56/100\n",
            "17/17 [==============================] - 2s 103ms/step - loss: 0.0956 - acc: 0.9573 - val_loss: 0.0987 - val_acc: 0.9535\n",
            "Epoch 57/100\n",
            "17/17 [==============================] - 2s 102ms/step - loss: 0.0950 - acc: 0.9562 - val_loss: 0.1000 - val_acc: 0.9556\n",
            "Epoch 58/100\n",
            "17/17 [==============================] - 2s 103ms/step - loss: 0.0957 - acc: 0.9573 - val_loss: 0.0967 - val_acc: 0.9565\n",
            "Epoch 59/100\n",
            "17/17 [==============================] - 2s 101ms/step - loss: 0.0945 - acc: 0.9582 - val_loss: 0.0966 - val_acc: 0.9577\n",
            "Epoch 60/100\n",
            "17/17 [==============================] - 2s 104ms/step - loss: 0.0932 - acc: 0.9584 - val_loss: 0.0959 - val_acc: 0.9579\n",
            "Epoch 61/100\n",
            "17/17 [==============================] - 2s 105ms/step - loss: 0.0948 - acc: 0.9580 - val_loss: 0.0946 - val_acc: 0.9564\n",
            "Epoch 62/100\n",
            "17/17 [==============================] - 2s 103ms/step - loss: 0.0939 - acc: 0.9575 - val_loss: 0.0969 - val_acc: 0.9579\n",
            "Epoch 63/100\n",
            "17/17 [==============================] - 2s 102ms/step - loss: 0.0922 - acc: 0.9596 - val_loss: 0.0925 - val_acc: 0.9587\n",
            "Epoch 64/100\n",
            "17/17 [==============================] - 2s 105ms/step - loss: 0.0889 - acc: 0.9604 - val_loss: 0.0924 - val_acc: 0.9579\n",
            "Epoch 65/100\n",
            "17/17 [==============================] - 2s 104ms/step - loss: 0.0876 - acc: 0.9620 - val_loss: 0.0901 - val_acc: 0.9639\n",
            "Epoch 66/100\n",
            "17/17 [==============================] - 2s 104ms/step - loss: 0.0864 - acc: 0.9626 - val_loss: 0.0889 - val_acc: 0.9646\n",
            "Epoch 67/100\n",
            "17/17 [==============================] - 2s 103ms/step - loss: 0.0843 - acc: 0.9637 - val_loss: 0.0880 - val_acc: 0.9655\n",
            "Epoch 68/100\n",
            "17/17 [==============================] - 2s 104ms/step - loss: 0.0851 - acc: 0.9629 - val_loss: 0.0866 - val_acc: 0.9657\n",
            "Epoch 69/100\n",
            "17/17 [==============================] - 2s 104ms/step - loss: 0.0830 - acc: 0.9660 - val_loss: 0.0849 - val_acc: 0.9668\n",
            "Epoch 70/100\n",
            "17/17 [==============================] - 2s 105ms/step - loss: 0.0820 - acc: 0.9655 - val_loss: 0.0835 - val_acc: 0.9666\n",
            "Epoch 71/100\n",
            "17/17 [==============================] - 2s 102ms/step - loss: 0.0820 - acc: 0.9651 - val_loss: 0.0831 - val_acc: 0.9645\n",
            "Epoch 72/100\n",
            "17/17 [==============================] - 2s 103ms/step - loss: 0.0774 - acc: 0.9677 - val_loss: 0.0826 - val_acc: 0.9662\n",
            "Epoch 73/100\n",
            "17/17 [==============================] - 2s 101ms/step - loss: 0.0765 - acc: 0.9675 - val_loss: 0.0795 - val_acc: 0.9672\n",
            "Epoch 74/100\n",
            "17/17 [==============================] - 2s 102ms/step - loss: 0.0759 - acc: 0.9691 - val_loss: 0.0776 - val_acc: 0.9711\n",
            "Epoch 75/100\n",
            "17/17 [==============================] - 2s 104ms/step - loss: 0.0741 - acc: 0.9699 - val_loss: 0.0751 - val_acc: 0.9685\n",
            "Epoch 76/100\n",
            "17/17 [==============================] - 2s 103ms/step - loss: 0.0711 - acc: 0.9710 - val_loss: 0.0743 - val_acc: 0.9692\n",
            "Epoch 77/100\n",
            "17/17 [==============================] - 2s 104ms/step - loss: 0.0700 - acc: 0.9707 - val_loss: 0.0725 - val_acc: 0.9696\n",
            "Epoch 78/100\n",
            "17/17 [==============================] - 2s 104ms/step - loss: 0.0679 - acc: 0.9731 - val_loss: 0.0714 - val_acc: 0.9700\n",
            "Epoch 79/100\n",
            "17/17 [==============================] - 2s 105ms/step - loss: 0.0652 - acc: 0.9728 - val_loss: 0.0697 - val_acc: 0.9741\n",
            "Epoch 80/100\n",
            "17/17 [==============================] - 2s 104ms/step - loss: 0.0650 - acc: 0.9741 - val_loss: 0.0686 - val_acc: 0.9711\n",
            "Epoch 81/100\n",
            "17/17 [==============================] - 2s 103ms/step - loss: 0.0630 - acc: 0.9733 - val_loss: 0.0669 - val_acc: 0.9717\n",
            "Epoch 82/100\n",
            "17/17 [==============================] - 2s 105ms/step - loss: 0.0609 - acc: 0.9748 - val_loss: 0.0654 - val_acc: 0.9745\n",
            "Epoch 83/100\n",
            "17/17 [==============================] - 2s 102ms/step - loss: 0.0621 - acc: 0.9739 - val_loss: 0.0645 - val_acc: 0.9744\n",
            "Epoch 84/100\n",
            "17/17 [==============================] - 2s 106ms/step - loss: 0.0572 - acc: 0.9768 - val_loss: 0.0645 - val_acc: 0.9745\n",
            "Epoch 85/100\n",
            "17/17 [==============================] - 2s 103ms/step - loss: 0.0599 - acc: 0.9754 - val_loss: 0.0621 - val_acc: 0.9768\n",
            "Epoch 86/100\n",
            "17/17 [==============================] - 2s 103ms/step - loss: 0.0571 - acc: 0.9771 - val_loss: 0.0613 - val_acc: 0.9757\n",
            "Epoch 87/100\n",
            "17/17 [==============================] - 2s 104ms/step - loss: 0.0572 - acc: 0.9767 - val_loss: 0.0620 - val_acc: 0.9769\n",
            "Epoch 88/100\n",
            "17/17 [==============================] - 2s 105ms/step - loss: 0.0542 - acc: 0.9786 - val_loss: 0.0591 - val_acc: 0.9760\n",
            "Epoch 89/100\n",
            "17/17 [==============================] - 2s 104ms/step - loss: 0.0541 - acc: 0.9780 - val_loss: 0.0587 - val_acc: 0.9763\n",
            "Epoch 90/100\n",
            "17/17 [==============================] - 2s 105ms/step - loss: 0.0541 - acc: 0.9767 - val_loss: 0.0577 - val_acc: 0.9755\n",
            "Epoch 91/100\n",
            "17/17 [==============================] - 2s 103ms/step - loss: 0.0535 - acc: 0.9773 - val_loss: 0.0577 - val_acc: 0.9757\n",
            "Epoch 92/100\n",
            "17/17 [==============================] - 2s 103ms/step - loss: 0.0525 - acc: 0.9781 - val_loss: 0.0567 - val_acc: 0.9767\n",
            "Epoch 93/100\n",
            "17/17 [==============================] - 2s 103ms/step - loss: 0.0532 - acc: 0.9778 - val_loss: 0.0568 - val_acc: 0.9767\n",
            "Epoch 94/100\n",
            "17/17 [==============================] - 2s 103ms/step - loss: 0.0514 - acc: 0.9790 - val_loss: 0.0564 - val_acc: 0.9773\n",
            "Epoch 95/100\n",
            "17/17 [==============================] - 2s 124ms/step - loss: 0.0497 - acc: 0.9791 - val_loss: 0.0553 - val_acc: 0.9775\n",
            "Epoch 96/100\n",
            "17/17 [==============================] - 3s 184ms/step - loss: 0.0532 - acc: 0.9772 - val_loss: 0.0549 - val_acc: 0.9774\n",
            "Epoch 97/100\n",
            "17/17 [==============================] - 3s 208ms/step - loss: 0.0500 - acc: 0.9792 - val_loss: 0.0535 - val_acc: 0.9785\n",
            "Epoch 98/100\n",
            "17/17 [==============================] - 3s 153ms/step - loss: 0.0480 - acc: 0.9801 - val_loss: 0.0528 - val_acc: 0.9794\n",
            "Epoch 99/100\n",
            "17/17 [==============================] - 2s 105ms/step - loss: 0.0476 - acc: 0.9802 - val_loss: 0.0529 - val_acc: 0.9787\n",
            "Epoch 100/100\n",
            "17/17 [==============================] - 2s 102ms/step - loss: 0.0504 - acc: 0.9792 - val_loss: 0.0526 - val_acc: 0.9791\n"
          ],
          "name": "stdout"
        }
      ]
    },
    {
      "cell_type": "code",
      "metadata": {
        "colab": {
          "base_uri": "https://localhost:8080/",
          "height": 591
        },
        "id": "k6zL6147Q50N",
        "outputId": "9ca3f994-01fe-4da6-d63b-ee15c5aff644"
      },
      "source": [
        "plot_history(l_history)"
      ],
      "execution_count": 35,
      "outputs": [
        {
          "output_type": "stream",
          "text": [
            "dict_keys(['loss', 'acc', 'val_loss', 'val_acc'])\n"
          ],
          "name": "stdout"
        },
        {
          "output_type": "display_data",
          "data": {
            "image/png": "[encoded data removed]",
            "text/plain": [
              "<Figure size 432x288 with 1 Axes>"
            ]
          },
          "metadata": {
            "tags": [],
            "needs_background": "light"
          }
        },
        {
          "output_type": "display_data",
          "data": {
            "image/png": "[encoded data removed]",
            "text/plain": [
              "<Figure size 432x288 with 1 Axes>"
            ]
          },
          "metadata": {
            "tags": [],
            "needs_background": "light"
          }
        }
      ]
    },
    {
      "cell_type": "code",
      "metadata": {
        "colab": {
          "base_uri": "https://localhost:8080/"
        },
        "id": "-O-qnaJsR8HE",
        "outputId": "5a95c61b-4407-44d9-c1af-157b9517a356"
      },
      "source": [
        "evaluate_on_test(xtest, ytest, training_model)"
      ],
      "execution_count": 36,
      "outputs": [
        {
          "output_type": "stream",
          "text": [
            "/usr/local/lib/python3.6/dist-packages/tensorflow/python/keras/engine/sequential.py:450: UserWarning: `model.predict_classes()` is deprecated and will be removed after 2021-01-01. Please use instead:* `np.argmax(model.predict(x), axis=-1)`,   if your model does multi-class classification   (e.g. if it uses a `softmax` last-layer activation).* `(model.predict(x) > 0.5).astype(\"int32\")`,   if your model does binary classification   (e.g. if it uses a `sigmoid` last-layer activation).\n",
            "  warnings.warn('`model.predict_classes()` is deprecated and '\n"
          ],
          "name": "stderr"
        },
        {
          "output_type": "stream",
          "text": [
            "Accuracy: 0.978343\n",
            "Precision: 0.952331\n",
            "Recall: 0.898326\n",
            "F1 score: 0.924540\n"
          ],
          "name": "stdout"
        }
      ]
    }
  ]
}