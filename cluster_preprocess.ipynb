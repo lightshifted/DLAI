{
  "nbformat": 4,
  "nbformat_minor": 0,
  "metadata": {
    "kernelspec": {
      "display_name": "Python 3",
      "language": "python",
      "name": "python3"
    },
    "language_info": {
      "codemirror_mode": {
        "name": "ipython",
        "version": 3
      },
      "file_extension": ".py",
      "mimetype": "text/x-python",
      "name": "python",
      "nbconvert_exporter": "python",
      "pygments_lexer": "ipython3",
      "version": "3.7.4"
    },
    "colab": {
      "name": "Copy of preprocess_data_clustering.ipynb",
      "provenance": []
    }
  },
  "cells": [
    {
      "cell_type": "markdown",
      "metadata": {
        "id": "a_bwNGvJb_1k"
      },
      "source": [
        "## Load Data"
      ]
    },
    {
      "cell_type": "code",
      "metadata": {
        "colab": {
          "base_uri": "https://localhost:8080/"
        },
        "id": "OgioRsLQWxkF",
        "outputId": "8de7ff9c-edb9-467a-def3-e21cead6e797"
      },
      "source": [
        "0# Mount Drive\r\n",
        "from google.colab import drive\r\n",
        "drive.mount('/content/drive') "
      ],
      "execution_count": 1,
      "outputs": [
        {
          "output_type": "stream",
          "text": [
            "Mounted at /content/drive\n"
          ],
          "name": "stdout"
        }
      ]
    },
    {
      "cell_type": "code",
      "metadata": {
        "colab": {
          "base_uri": "https://localhost:8080/"
        },
        "id": "1wQy43EqWxbH",
        "outputId": "e30daa62-f9a9-4c9a-c97c-0dacf67d5b84"
      },
      "source": [
        "import os\r\n",
        "# The path below should point to the directory containing this notebook and the associated utility files\r\n",
        "# Change it if necessary\r\n",
        "os.chdir('drive/MyDrive/Colab Notebooks/FourthBrain/data/')\r\n",
        "!ls"
      ],
      "execution_count": 2,
      "outputs": [
        {
          "output_type": "stream",
          "text": [
            "all_contacts.csv\t\t   last-registered-event-field-history.csv\n",
            "email_field_hist.csv\t\t   pageview_hist.csv\n",
            "event_hist.csv\t\t\t   preprocess_data_clustering.ipynb\n",
            "hub_spot_export_clean01212021.pkl  Reports\n",
            "hubspot_export.csv\t\t   students_conversion_clean01212021.pkl\n"
          ],
          "name": "stdout"
        }
      ]
    },
    {
      "cell_type": "code",
      "metadata": {
        "id": "YMmLw_1JWwCR"
      },
      "source": [
        "# Import libraries \n",
        "import pandas as pd\n",
        "import numpy as np\n",
        "import matplotlib.pyplot as plt\n",
        "from urllib.parse import urlparse"
      ],
      "execution_count": 3,
      "outputs": []
    },
    {
      "cell_type": "code",
      "metadata": {
        "colab": {
          "base_uri": "https://localhost:8080/"
        },
        "id": "czK9xXaDWwCW",
        "outputId": "db807c67-677b-41a7-9f70-e41dd052eab3"
      },
      "source": [
        "# load data\n",
        "pageview_hist = pd.read_csv('pageview_hist.csv', encoding='utf-8').fillna(0)\n",
        "event_hist = pd.read_csv('event_hist.csv', encoding='utf-8').fillna(0)\n",
        "hubspot_export = pd.read_csv('hubspot_export.csv', encoding='utf-8').fillna(0)"
      ],
      "execution_count": 4,
      "outputs": [
        {
          "output_type": "stream",
          "text": [
            "/usr/local/lib/python3.6/dist-packages/IPython/core/interactiveshell.py:2718: DtypeWarning: Columns (14,15,16,17,18,19,20,21,22,23,24,25,26,27,28,29,30,31,32,33,34,35,36,37,38,39,40,41,42,43,44,45,46,47,48,49,50,51,52,53,54,55,56,57,58,59,60,61,62,63,64,65,66,67,68,69,70,71,72,73,74,75,76,77,78,79,80,81,82,83,84,85,86,87,88,89,90,91) have mixed types.Specify dtype option on import or set low_memory=False.\n",
            "  interactivity=interactivity, compiler=compiler, result=result)\n",
            "/usr/local/lib/python3.6/dist-packages/IPython/core/interactiveshell.py:2718: DtypeWarning: Columns (8) have mixed types.Specify dtype option on import or set low_memory=False.\n",
            "  interactivity=interactivity, compiler=compiler, result=result)\n"
          ],
          "name": "stderr"
        }
      ]
    },
    {
      "cell_type": "markdown",
      "metadata": {
        "id": "vJCyCULIdhta"
      },
      "source": [
        "## Categorization\r\n",
        "Transform the collected event log into actual clickstream data. \r\n",
        "\r\n",
        "===============\r\n",
        "* A : homepage | B : blog | C : events \r\n",
        "* D : specialization | E : machine learning yearning\r\n",
        "* F : forums | G : the batch | H : careers\r\n",
        "* I : about | J : course-signup | K : tensorflow\r\n",
        "* L : climate | M : ai notes | N : dl notes\r\n",
        "* O : newletter archive | P : event registration\r\n",
        "* Q : other | R : contact | S : ai ambassadorship"
      ]
    },
    {
      "cell_type": "markdown",
      "metadata": {
        "id": "xFCHyo6HxJZo"
      },
      "source": [
        "### Event 1"
      ]
    },
    {
      "cell_type": "code",
      "metadata": {
        "colab": {
          "base_uri": "https://localhost:8080/"
        },
        "id": "qP6_nF_RWwCX",
        "outputId": "ea48152d-c56e-466c-af56-2ee09121e165"
      },
      "source": [
        "# locate null exclusive rows and remove them\n",
        "pageviews = pageview_hist.drop(list(np.ravel(np.where(\\\n",
        "                                    pageview_hist['Last Page Seen Current Value'] == 0))))\n",
        "\n",
        "events = event_hist.drop(list(np.ravel(np.where(\\\n",
        "                                    event_hist['Last Registered Event Date Current Value'] == 0))))\n",
        "\n",
        "print('pageviews shape:', pageviews.shape)\n",
        "print('events shape:', events.shape)"
      ],
      "execution_count": 5,
      "outputs": [
        {
          "output_type": "stream",
          "text": [
            "pageviews shape: (90533, 9)\n",
            "events shape: (56081, 92)\n"
          ],
          "name": "stdout"
        }
      ]
    },
    {
      "cell_type": "code",
      "metadata": {
        "colab": {
          "base_uri": "https://localhost:8080/",
          "height": 0
        },
        "id": "yd1Wlu2KWwCY",
        "outputId": "27dc5926-2b29-4317-cda6-754b3605d534"
      },
      "source": [
        "# preserve index order of pageviews\n",
        "idx = pageviews.index.to_list()\n",
        "\n",
        "# construct df containing url sequences and times\n",
        "url_sequences = pd.DataFrame([])\n",
        "url_sequences['ID'] = pageviews['Contact ID']\n",
        "url_sequences['event1'] = pageviews['Last Page Seen Current Value']\n",
        "url_sequences['t1'] = pageviews['Last Page Seen Change Date']\n",
        "url_sequences['event2'] = pageviews['Last Page Seen Previous Value (1)']\n",
        "url_sequences['t2'] = pageviews['Last Page Seen Change Date (1)']\n",
        "url_sequences['event3'] = pageviews['Last Page Seen Previous Value (2)']\n",
        "url_sequences['t3'] = pageviews['Last Page Seen Change Date (2)']\n",
        "url_sequences['event4'] = pageviews['...']\n",
        "\n",
        "# display first 5 rows of dataframe url_sequences\n",
        "print(\"URL SEQUENCES DF\")\n",
        "url_sequences.head(1)"
      ],
      "execution_count": 6,
      "outputs": [
        {
          "output_type": "stream",
          "text": [
            "URL SEQUENCES DF\n"
          ],
          "name": "stdout"
        },
        {
          "output_type": "execute_result",
          "data": {
            "text/html": [
              "<div>\n",
              "<style scoped>\n",
              "    .dataframe tbody tr th:only-of-type {\n",
              "        vertical-align: middle;\n",
              "    }\n",
              "\n",
              "    .dataframe tbody tr th {\n",
              "        vertical-align: top;\n",
              "    }\n",
              "\n",
              "    .dataframe thead th {\n",
              "        text-align: right;\n",
              "    }\n",
              "</style>\n",
              "<table border=\"1\" class=\"dataframe\">\n",
              "  <thead>\n",
              "    <tr style=\"text-align: right;\">\n",
              "      <th></th>\n",
              "      <th>ID</th>\n",
              "      <th>event1</th>\n",
              "      <th>t1</th>\n",
              "      <th>event2</th>\n",
              "      <th>t2</th>\n",
              "      <th>event3</th>\n",
              "      <th>t3</th>\n",
              "      <th>event4</th>\n",
              "    </tr>\n",
              "  </thead>\n",
              "  <tbody>\n",
              "    <tr>\n",
              "      <th>5</th>\n",
              "      <td>333</td>\n",
              "      <td>https://www.deeplearning.ai/become-a-deeplearn...</td>\n",
              "      <td>2020-05-21 04:22</td>\n",
              "      <td>https://www.deeplearning.ai/events/?utm_campai...</td>\n",
              "      <td>2020-05-21 04:22</td>\n",
              "      <td>0</td>\n",
              "      <td>0</td>\n",
              "      <td>0</td>\n",
              "    </tr>\n",
              "  </tbody>\n",
              "</table>\n",
              "</div>"
            ],
            "text/plain": [
              "    ID                                             event1  ... t3 event4\n",
              "5  333  https://www.deeplearning.ai/become-a-deeplearn...  ...  0      0\n",
              "\n",
              "[1 rows x 8 columns]"
            ]
          },
          "metadata": {
            "tags": []
          },
          "execution_count": 6
        }
      ]
    },
    {
      "cell_type": "code",
      "metadata": {
        "colab": {
          "base_uri": "https://localhost:8080/",
          "height": 0
        },
        "id": "15wGFHEzWwCY",
        "outputId": "28337176-9a1f-420f-c15b-f3744736d039"
      },
      "source": [
        "# prepare dataframe for urlparse function\n",
        "m = pd.DataFrame([])\n",
        "m['url'] = url_sequences['event1'].unique()\n",
        "\n",
        "# list of indices for sample tracking\n",
        "idx = m.index.to_list()\n",
        "\n",
        "# list of column names\n",
        "df_columns = ['scheme', 'netloc', 'path',\n",
        "              'params', 'query', 'fragment']\n",
        "\n",
        "# prepare null dataframe with columns = df_columns and index = idx\n",
        "url_segments = pd.DataFrame([], columns=df_columns, index=idx).fillna(0)\n",
        "\n",
        "# segment urls for categorization\n",
        "url_segments['scheme'] = [urlparse(m['url'][i]).scheme for i in range(len(idx))]\n",
        "url_segments['netloc'] = [urlparse(m['url'][i]).netloc for i in range(len(idx))]\n",
        "url_segments['path'] = [urlparse(m['url'][i]).path for i in range(len(idx))]\n",
        "url_segments['params'] = [urlparse(m['url'][i]).params for i in range(len(idx))]\n",
        "url_segments['query'] = [urlparse(m['url'][i]).query for i in range(len(idx))]\n",
        "url_segments['fragment'] = [urlparse(m['url'][i]).fragment for i in range(len(idx))]\n",
        "\n",
        "# display first 5 rows\n",
        "print('PARSED URLS DF')\n",
        "url_segments.head(1)"
      ],
      "execution_count": 7,
      "outputs": [
        {
          "output_type": "stream",
          "text": [
            "PARSED URLS DF\n"
          ],
          "name": "stdout"
        },
        {
          "output_type": "execute_result",
          "data": {
            "text/html": [
              "<div>\n",
              "<style scoped>\n",
              "    .dataframe tbody tr th:only-of-type {\n",
              "        vertical-align: middle;\n",
              "    }\n",
              "\n",
              "    .dataframe tbody tr th {\n",
              "        vertical-align: top;\n",
              "    }\n",
              "\n",
              "    .dataframe thead th {\n",
              "        text-align: right;\n",
              "    }\n",
              "</style>\n",
              "<table border=\"1\" class=\"dataframe\">\n",
              "  <thead>\n",
              "    <tr style=\"text-align: right;\">\n",
              "      <th></th>\n",
              "      <th>scheme</th>\n",
              "      <th>netloc</th>\n",
              "      <th>path</th>\n",
              "      <th>params</th>\n",
              "      <th>query</th>\n",
              "      <th>fragment</th>\n",
              "    </tr>\n",
              "  </thead>\n",
              "  <tbody>\n",
              "    <tr>\n",
              "      <th>0</th>\n",
              "      <td>https</td>\n",
              "      <td>www.deeplearning.ai</td>\n",
              "      <td>/become-a-deeplearning-ai-events-ambassador/</td>\n",
              "      <td></td>\n",
              "      <td></td>\n",
              "      <td></td>\n",
              "    </tr>\n",
              "  </tbody>\n",
              "</table>\n",
              "</div>"
            ],
            "text/plain": [
              "  scheme               netloc  ... query fragment\n",
              "0  https  www.deeplearning.ai  ...               \n",
              "\n",
              "[1 rows x 6 columns]"
            ]
          },
          "metadata": {
            "tags": []
          },
          "execution_count": 7
        }
      ]
    },
    {
      "cell_type": "code",
      "metadata": {
        "id": "JWjlRamHvipr"
      },
      "source": [
        "dic = {'become-a-deeplearning-ai-events-ambassador' : 'S', 'blog' : 'B', 'thebatch' : 'G',\r\n",
        "       'generative-adversarial-networks-specialization' : 'D',\r\n",
        "       'machine-learning-yearning' : 'E',\r\n",
        "       'natural-language-processing-specialization' : 'D', ' ' : 'Q', 'careers' : 'H',\r\n",
        "       'events' : 'C', 'forums' : 'F', '1w-3kMnSXR9ynOeSC5vJWFQ3hul4' : 'Q',\r\n",
        "       'deep-learning-specialization' : 'D', 'ai-for-medicine' : 'D', 'course-signup' : 'J',\r\n",
        "       'contact-us' : 'R', 'climate' : 'L', 'about-us' : 'I', 'ai-for-everyone' : 'M',\r\n",
        "       'tensorflow-in-practice' : 'K', 'tensorflow-data-and-deployment' : 'K',\r\n",
        "       '18b-0Xg-iTwW-qVdOXFow3w3hul4' : 'Q', '1qOs8ajvWQGq4F4ClL_RbRA3hul4' : 'Q',\r\n",
        "       'ai-career-program-for-experienced-engineers' : 'H', 'hs' : 'Q',\r\n",
        "       '-temporary-slug-45e6d038-071c-4c82-9eae-c664fa342a92' : 'Q', 'press' : 'I',\r\n",
        "       '-temporary-slug-2c0727dd-b118-46ff-a8ea-696379a06821' : 'Q', 'bootcamp' : 'C',\r\n",
        "       'tensorflow-from-basics-to-mastery' : 'K',\r\n",
        "       'ai-career-program-for-university-graduates' : 'H', 'privacy' : 'I', 'page' : 'A',\r\n",
        "       '1uPx8FCrfQ3qWp_tv8WmCuA3hul4' : 'Q',\r\n",
        "       '-temporary-slug-4e3b41cb-fdac-4680-870c-4e50df654998' : 'Q', 'THEBATCH' : 'G',\r\n",
        "       'ai-nots' : 'M', 'dl-notes' : 'N', 'ai-notes' : 'M', '1sw5nCSRdRPWcbhr3a_03jg3hul4' : 'Q',\r\n",
        "       'ai-internship' : 'C', 'machine-learning-yearning-cn' : 'E', 'mail' : 'I',\r\n",
        "       'translate_c' : 'Q', 'notes' : 'I', 'TheBatch' : 'G', 'search' : 'Q', 'terms-of-use' : 'I',\r\n",
        "       'newsletter-archive-test' : 'O'}"
      ],
      "execution_count": 8,
      "outputs": []
    },
    {
      "cell_type": "code",
      "metadata": {
        "id": "mhjAJSQ6drs0"
      },
      "source": [
        "# define variable paths \r\n",
        "paths = url_segments['path']\r\n",
        "\r\n",
        "# seperate strings in path by '/'\r\n",
        "unique_paths = pd.DataFrame([i.split('/') for i in \\\r\n",
        "                            url_segments['path'].unique()])[1].unique()\r\n",
        "\r\n",
        "# convert to pandas dataframe\r\n",
        "_paths = pd.DataFrame(unique_paths, columns=[\"unique_paths\"])\r\n",
        "\r\n",
        "# append path encodings \r\n",
        "_paths['encoded_paths'] = pd.DataFrame(data=[list(dic.values())]).T\r\n",
        "\r\n",
        "# apply encodings to data set\r\n",
        "for i in [i for i in range(len(_paths)) if i != 6]:\r\n",
        "  idx2 = paths[paths.str.contains(f'{_paths[\"unique_paths\"].iloc[i]}')].index\r\n",
        "  paths[idx2] = _paths[\"encoded_paths\"].iloc[i]"
      ],
      "execution_count": 9,
      "outputs": []
    },
    {
      "cell_type": "code",
      "metadata": {
        "id": "TGp2UId1jUcs"
      },
      "source": [
        "netloc_dic = {'www.deeplearning.ai' : 'A', 'blog.deeplearning.ai' : 'B', 'share.hsforms.com' : 'P',\r\n",
        "       'info.deeplearning.ai' : 'I', 'www.mlyearning.org' : 'E', 'deeplearning.ai' : 'A',\r\n",
        "       'translate.googleusercontent.com' : 'A'}\r\n",
        "\r\n",
        "locs = url_segments['netloc'].iloc[paths.iloc[np.where(paths == '/')].index].map(netloc_dic)\r\n",
        "paths.iloc[locs.index] = locs"
      ],
      "execution_count": 10,
      "outputs": []
    },
    {
      "cell_type": "code",
      "metadata": {
        "colab": {
          "base_uri": "https://localhost:8080/",
          "height": 0
        },
        "id": "h39wfH7CYWeq",
        "outputId": "05e927b7-976d-4606-f15b-1a449c6d3a93"
      },
      "source": [
        "X = pd.DataFrame([])\r\n",
        "X['event1'] = paths\r\n",
        "X.head()"
      ],
      "execution_count": 11,
      "outputs": [
        {
          "output_type": "execute_result",
          "data": {
            "text/html": [
              "<div>\n",
              "<style scoped>\n",
              "    .dataframe tbody tr th:only-of-type {\n",
              "        vertical-align: middle;\n",
              "    }\n",
              "\n",
              "    .dataframe tbody tr th {\n",
              "        vertical-align: top;\n",
              "    }\n",
              "\n",
              "    .dataframe thead th {\n",
              "        text-align: right;\n",
              "    }\n",
              "</style>\n",
              "<table border=\"1\" class=\"dataframe\">\n",
              "  <thead>\n",
              "    <tr style=\"text-align: right;\">\n",
              "      <th></th>\n",
              "      <th>event1</th>\n",
              "    </tr>\n",
              "  </thead>\n",
              "  <tbody>\n",
              "    <tr>\n",
              "      <th>0</th>\n",
              "      <td>S</td>\n",
              "    </tr>\n",
              "    <tr>\n",
              "      <th>1</th>\n",
              "      <td>B</td>\n",
              "    </tr>\n",
              "    <tr>\n",
              "      <th>2</th>\n",
              "      <td>G</td>\n",
              "    </tr>\n",
              "    <tr>\n",
              "      <th>3</th>\n",
              "      <td>D</td>\n",
              "    </tr>\n",
              "    <tr>\n",
              "      <th>4</th>\n",
              "      <td>G</td>\n",
              "    </tr>\n",
              "  </tbody>\n",
              "</table>\n",
              "</div>"
            ],
            "text/plain": [
              "  event1\n",
              "0      S\n",
              "1      B\n",
              "2      G\n",
              "3      D\n",
              "4      G"
            ]
          },
          "metadata": {
            "tags": []
          },
          "execution_count": 11
        }
      ]
    },
    {
      "cell_type": "code",
      "metadata": {
        "id": "61_kKGNX2OIj"
      },
      "source": [
        "df = pd.DataFrame([])\r\n",
        "\r\n",
        "d = url_sequences['t1'].str.split(expand=True)\r\n",
        "date = d[0].str.split('-', expand=True)\r\n",
        "time = d[1].str.split(':', expand=True)\r\n",
        "\r\n",
        "years = date.iloc[:,0]\r\n",
        "months = date.iloc[:,1]\r\n",
        "days = date.iloc[:,2]\r\n",
        "hours = time.iloc[:,0]\r\n",
        "seconds = time.iloc[:,1]\r\n",
        "\r\n",
        "df['year'] = years\r\n",
        "df['month'] = months\r\n",
        "df['day'] = days\r\n",
        "df['hour'] = hours\r\n",
        "df['second'] = seconds"
      ],
      "execution_count": 12,
      "outputs": []
    },
    {
      "cell_type": "code",
      "metadata": {
        "id": "BPAkhSBW8SI-"
      },
      "source": [
        "seasons = {\r\n",
        "'12': 'winter', '01' : 'winter', '02' : 'winter',\r\n",
        "'03' : 'spring', '04' : 'spring', '05' : 'spring',\r\n",
        "'06' : 'summer', '07' : 'summer', '08' : 'summer',\r\n",
        "'09' : 'fall', '10' : 'fall', '11' : 'fall'\r\n",
        "}\r\n",
        "\r\n",
        "parts = {\r\n",
        "'00':'dawn','01':'dawn','02':'dawn','03':'dawn',\r\n",
        "'04':'morning','05':'morning','06':'morning','07':'morning',\r\n",
        "'08':'daytime','09':'daytime','10':'daytime','11':'daytime',\r\n",
        "'12':'evening','13':'evening','14':'evening','15':'Evening',\r\n",
        "'16':'Dusk','17':'Dusk','18':'Dusk','19':'Dusk',\r\n",
        "'20':'Night','21':'Night','22':'Night','23':'Night'\r\n",
        "}\r\n",
        "\r\n",
        "df['month'] = df['month'].map(seasons)\r\n",
        "df['hour'] = df['hour'].map(parts)"
      ],
      "execution_count": 13,
      "outputs": []
    },
    {
      "cell_type": "code",
      "metadata": {
        "id": "oFnzKTlwr1lY"
      },
      "source": [
        ""
      ],
      "execution_count": 13,
      "outputs": []
    },
    {
      "cell_type": "markdown",
      "metadata": {
        "id": "3uGix_UdxRQA"
      },
      "source": [
        "### Event 2"
      ]
    },
    {
      "cell_type": "code",
      "metadata": {
        "id": "LlWxWhAGwdlw",
        "colab": {
          "base_uri": "https://localhost:8080/"
        },
        "outputId": "4094f3d9-f5af-49c9-f383-fe2b7e83f806"
      },
      "source": [
        "# locate null exclusive rows and remove them\r\n",
        "pageviews = pageview_hist.drop(list(np.ravel(np.where(\\\r\n",
        "                                    pageview_hist['Last Page Seen Previous Value (1)'] == 0))))\r\n",
        "\r\n",
        "events = event_hist.drop(list(np.ravel(np.where(\\\r\n",
        "                                    event_hist['Last Registered Event Date Current Value'] == 0))))\r\n",
        "\r\n",
        "print('pageviews shape:', pageviews.shape)\r\n",
        "print('events shape:', events.shape)"
      ],
      "execution_count": 14,
      "outputs": [
        {
          "output_type": "stream",
          "text": [
            "pageviews shape: (37642, 9)\n",
            "events shape: (56081, 92)\n"
          ],
          "name": "stdout"
        }
      ]
    },
    {
      "cell_type": "code",
      "metadata": {
        "colab": {
          "base_uri": "https://localhost:8080/",
          "height": 0
        },
        "id": "rHRNkaZhsyBA",
        "outputId": "685218ca-bf7e-4714-bd88-4b6e4cb53fab"
      },
      "source": [
        "# preserve index order of pageviews\r\n",
        "idx = pageviews.index.to_list()\r\n",
        "\r\n",
        "# construct df containing url sequences and times\r\n",
        "url_sequences = pd.DataFrame([])\r\n",
        "url_sequences['ID'] = pageviews['Contact ID']\r\n",
        "url_sequences['event1'] = pageviews['Last Page Seen Current Value']\r\n",
        "url_sequences['t1'] = pageviews['Last Page Seen Change Date']\r\n",
        "url_sequences['event2'] = pageviews['Last Page Seen Previous Value (1)']\r\n",
        "url_sequences['t2'] = pageviews['Last Page Seen Change Date (1)']\r\n",
        "url_sequences['event3'] = pageviews['Last Page Seen Previous Value (2)']\r\n",
        "url_sequences['t3'] = pageviews['Last Page Seen Change Date (2)']\r\n",
        "url_sequences['event4'] = pageviews['...']\r\n",
        "\r\n",
        "# display first 5 rows of dataframe url_sequences\r\n",
        "print(\"URL SEQUENCES DF\")\r\n",
        "url_sequences.head(1)"
      ],
      "execution_count": 15,
      "outputs": [
        {
          "output_type": "stream",
          "text": [
            "URL SEQUENCES DF\n"
          ],
          "name": "stdout"
        },
        {
          "output_type": "execute_result",
          "data": {
            "text/html": [
              "<div>\n",
              "<style scoped>\n",
              "    .dataframe tbody tr th:only-of-type {\n",
              "        vertical-align: middle;\n",
              "    }\n",
              "\n",
              "    .dataframe tbody tr th {\n",
              "        vertical-align: top;\n",
              "    }\n",
              "\n",
              "    .dataframe thead th {\n",
              "        text-align: right;\n",
              "    }\n",
              "</style>\n",
              "<table border=\"1\" class=\"dataframe\">\n",
              "  <thead>\n",
              "    <tr style=\"text-align: right;\">\n",
              "      <th></th>\n",
              "      <th>ID</th>\n",
              "      <th>event1</th>\n",
              "      <th>t1</th>\n",
              "      <th>event2</th>\n",
              "      <th>t2</th>\n",
              "      <th>event3</th>\n",
              "      <th>t3</th>\n",
              "      <th>event4</th>\n",
              "    </tr>\n",
              "  </thead>\n",
              "  <tbody>\n",
              "    <tr>\n",
              "      <th>5</th>\n",
              "      <td>333</td>\n",
              "      <td>https://www.deeplearning.ai/become-a-deeplearn...</td>\n",
              "      <td>2020-05-21 04:22</td>\n",
              "      <td>https://www.deeplearning.ai/events/?utm_campai...</td>\n",
              "      <td>2020-05-21 04:22</td>\n",
              "      <td>0</td>\n",
              "      <td>0</td>\n",
              "      <td>0</td>\n",
              "    </tr>\n",
              "  </tbody>\n",
              "</table>\n",
              "</div>"
            ],
            "text/plain": [
              "    ID                                             event1  ... t3 event4\n",
              "5  333  https://www.deeplearning.ai/become-a-deeplearn...  ...  0      0\n",
              "\n",
              "[1 rows x 8 columns]"
            ]
          },
          "metadata": {
            "tags": []
          },
          "execution_count": 15
        }
      ]
    },
    {
      "cell_type": "code",
      "metadata": {
        "colab": {
          "base_uri": "https://localhost:8080/",
          "height": 0
        },
        "id": "hcV-DCQIs6y7",
        "outputId": "bfd05c99-81a0-437c-bad6-4c0a4ef4ee30"
      },
      "source": [
        "# prepare dataframe for urlparse function\r\n",
        "m = pd.DataFrame([])\r\n",
        "m['url'] = url_sequences['event1'].unique()\r\n",
        "\r\n",
        "# list of indices for sample tracking\r\n",
        "idx = m.index.to_list()\r\n",
        "\r\n",
        "# list of column names\r\n",
        "df_columns = ['scheme', 'netloc', 'path',\r\n",
        "              'params', 'query', 'fragment']\r\n",
        "\r\n",
        "# prepare null dataframe with columns = df_columns and index = idx\r\n",
        "url_segments = pd.DataFrame([], columns=df_columns, index=idx).fillna(0)\r\n",
        "\r\n",
        "# segment urls for categorization\r\n",
        "url_segments['scheme'] = [urlparse(m['url'][i]).scheme for i in range(len(idx))]\r\n",
        "url_segments['netloc'] = [urlparse(m['url'][i]).netloc for i in range(len(idx))]\r\n",
        "url_segments['path'] = [urlparse(m['url'][i]).path for i in range(len(idx))]\r\n",
        "url_segments['params'] = [urlparse(m['url'][i]).params for i in range(len(idx))]\r\n",
        "url_segments['query'] = [urlparse(m['url'][i]).query for i in range(len(idx))]\r\n",
        "url_segments['fragment'] = [urlparse(m['url'][i]).fragment for i in range(len(idx))]\r\n",
        "\r\n",
        "# display first 5 rows\r\n",
        "print('PARSED URLS DF')\r\n",
        "url_segments.head(1)"
      ],
      "execution_count": 16,
      "outputs": [
        {
          "output_type": "stream",
          "text": [
            "PARSED URLS DF\n"
          ],
          "name": "stdout"
        },
        {
          "output_type": "execute_result",
          "data": {
            "text/html": [
              "<div>\n",
              "<style scoped>\n",
              "    .dataframe tbody tr th:only-of-type {\n",
              "        vertical-align: middle;\n",
              "    }\n",
              "\n",
              "    .dataframe tbody tr th {\n",
              "        vertical-align: top;\n",
              "    }\n",
              "\n",
              "    .dataframe thead th {\n",
              "        text-align: right;\n",
              "    }\n",
              "</style>\n",
              "<table border=\"1\" class=\"dataframe\">\n",
              "  <thead>\n",
              "    <tr style=\"text-align: right;\">\n",
              "      <th></th>\n",
              "      <th>scheme</th>\n",
              "      <th>netloc</th>\n",
              "      <th>path</th>\n",
              "      <th>params</th>\n",
              "      <th>query</th>\n",
              "      <th>fragment</th>\n",
              "    </tr>\n",
              "  </thead>\n",
              "  <tbody>\n",
              "    <tr>\n",
              "      <th>0</th>\n",
              "      <td>https</td>\n",
              "      <td>www.deeplearning.ai</td>\n",
              "      <td>/become-a-deeplearning-ai-events-ambassador/</td>\n",
              "      <td></td>\n",
              "      <td></td>\n",
              "      <td></td>\n",
              "    </tr>\n",
              "  </tbody>\n",
              "</table>\n",
              "</div>"
            ],
            "text/plain": [
              "  scheme               netloc  ... query fragment\n",
              "0  https  www.deeplearning.ai  ...               \n",
              "\n",
              "[1 rows x 6 columns]"
            ]
          },
          "metadata": {
            "tags": []
          },
          "execution_count": 16
        }
      ]
    },
    {
      "cell_type": "code",
      "metadata": {
        "id": "emUv8Wiuy5e1"
      },
      "source": [
        "dic3 = {'become-a-deeplearning-ai-events-ambassador' : 'S', 'blog' : 'B',\r\n",
        "       'generative-adversarial-networks-specialization' : 'D',\r\n",
        "       'natural-language-processing-specialization' : 'D', '' : 'Q', 'thebatch' : 'G',\r\n",
        "       'machine-learning-yearning' : 'E', 'careers' : 'H', 'events' : 'C', 'forums' : 'F',\r\n",
        "       'deep-learning-specialization' : 'D', 'ai-for-medicine' : 'D', 'course-signup' : 'J',\r\n",
        "       'about-us' : 'I', 'ai-for-everyone' : 'M', 'tensorflow-in-practice' : 'K',\r\n",
        "       'tensorflow-data-and-deployment' : 'K', '1w-3kMnSXR9ynOeSC5vJWFQ3hul4' : 'Q',\r\n",
        "       '1qOs8ajvWQGq4F4ClL_RbRA3hul4' : 'Q',\r\n",
        "       'ai-career-program-for-experienced-engineers' : 'H',\r\n",
        "       '18b-0Xg-iTwW-qVdOXFow3w3hul4' : 'Q',\r\n",
        "       '-temporary-slug-45e6d038-071c-4c82-9eae-c664fa342a92' : 'Q', 'hs' : 'Q',\r\n",
        "       'contact-us' : 'I', 'press' : 'I',\r\n",
        "       '-temporary-slug-2c0727dd-b118-46ff-a8ea-696379a06821' : 'Q', 'bootcamp' : 'C',\r\n",
        "       'tensorflow-from-basics-to-mastery' : 'K',\r\n",
        "       'ai-career-program-for-university-graduates' : 'H', 'privacy' : 'I', 'page' : 'A',\r\n",
        "       'climate' : 'L', '1uPx8FCrfQ3qWp_tv8WmCuA3hul4' : 'Q', 'ai-nots' : 'M', 'dl-notes' : 'N',\r\n",
        "       'ai-notes' : 'M', '1sw5nCSRdRPWcbhr3a_03jg3hul4' : 'Q', 'ai-internship' : 'H',\r\n",
        "       'machine-learning-yearning-cn' : 'E', 'notes' : 'M', 'translate_c' : 'Q',\r\n",
        "       'terms-of-use' : 'I', 'newsletter-archive-test' : 'O', }"
      ],
      "execution_count": 17,
      "outputs": []
    },
    {
      "cell_type": "code",
      "metadata": {
        "id": "nEerjHq2sx2x"
      },
      "source": [
        "# define variable paths \r\n",
        "paths = url_segments['path']\r\n",
        "\r\n",
        "# seperate strings in path by '/'\r\n",
        "unique_paths = pd.DataFrame([i.split('/') for i in \\\r\n",
        "                            url_segments['path'].unique()])[1].unique()"
      ],
      "execution_count": 18,
      "outputs": []
    },
    {
      "cell_type": "code",
      "metadata": {
        "id": "tD7e__jf1bhE"
      },
      "source": [
        "# convert to pandas dataframe\r\n",
        "_paths = pd.DataFrame(unique_paths, columns=[\"unique_paths\"])\r\n",
        "\r\n",
        "# append path encodings \r\n",
        "_paths['encoded_paths'] = pd.DataFrame(data=[list(dic3.values())]).T\r\n",
        "\r\n",
        "# apply encodings to data set\r\n",
        "for i in [i for i in range(len(_paths)) if i !=4]:\r\n",
        "  idx2 = paths[paths.str.contains(f'{_paths[\"unique_paths\"].iloc[i]}')].index\r\n",
        "  paths[idx2] = _paths[\"encoded_paths\"].iloc[i]"
      ],
      "execution_count": 19,
      "outputs": []
    },
    {
      "cell_type": "code",
      "metadata": {
        "id": "nbyh1NUe9iSX"
      },
      "source": [
        "# any entry with netloc but no param must be represented in our data set. If not,\r\n",
        "# many data points are lost and will go unaccounted for.\r\n",
        "\r\n",
        "netloc_dic = {'www.deeplearning.ai' : 'A', 'blog.deeplearning.ai' : 'B', 'share.hsforms.com' : 'P',\r\n",
        "       'info.deeplearning.ai' : 'I', 'www.mlyearning.org' : 'E', 'deeplearning.ai' : 'A',\r\n",
        "       'translate.googleusercontent.com' : 'A'}\r\n",
        "\r\n",
        "locs = url_segments['netloc'].iloc[paths.iloc[np.where(paths == '/')].index].map(netloc_dic)\r\n",
        "paths.iloc[locs.index] = locs"
      ],
      "execution_count": 20,
      "outputs": []
    },
    {
      "cell_type": "code",
      "metadata": {
        "colab": {
          "base_uri": "https://localhost:8080/",
          "height": 0
        },
        "id": "JKggMzah1fBs",
        "outputId": "7764615b-e4bc-42cc-89a5-4990e923626e"
      },
      "source": [
        "X['event2'] = paths\r\n",
        "X.fillna(0)"
      ],
      "execution_count": 21,
      "outputs": [
        {
          "output_type": "execute_result",
          "data": {
            "text/html": [
              "<div>\n",
              "<style scoped>\n",
              "    .dataframe tbody tr th:only-of-type {\n",
              "        vertical-align: middle;\n",
              "    }\n",
              "\n",
              "    .dataframe tbody tr th {\n",
              "        vertical-align: top;\n",
              "    }\n",
              "\n",
              "    .dataframe thead th {\n",
              "        text-align: right;\n",
              "    }\n",
              "</style>\n",
              "<table border=\"1\" class=\"dataframe\">\n",
              "  <thead>\n",
              "    <tr style=\"text-align: right;\">\n",
              "      <th></th>\n",
              "      <th>event1</th>\n",
              "      <th>event2</th>\n",
              "    </tr>\n",
              "  </thead>\n",
              "  <tbody>\n",
              "    <tr>\n",
              "      <th>0</th>\n",
              "      <td>S</td>\n",
              "      <td>S</td>\n",
              "    </tr>\n",
              "    <tr>\n",
              "      <th>1</th>\n",
              "      <td>B</td>\n",
              "      <td>B</td>\n",
              "    </tr>\n",
              "    <tr>\n",
              "      <th>2</th>\n",
              "      <td>G</td>\n",
              "      <td>D</td>\n",
              "    </tr>\n",
              "    <tr>\n",
              "      <th>3</th>\n",
              "      <td>D</td>\n",
              "      <td>D</td>\n",
              "    </tr>\n",
              "    <tr>\n",
              "      <th>4</th>\n",
              "      <td>G</td>\n",
              "      <td>A</td>\n",
              "    </tr>\n",
              "    <tr>\n",
              "      <th>...</th>\n",
              "      <td>...</td>\n",
              "      <td>...</td>\n",
              "    </tr>\n",
              "    <tr>\n",
              "      <th>14364</th>\n",
              "      <td>G</td>\n",
              "      <td>0</td>\n",
              "    </tr>\n",
              "    <tr>\n",
              "      <th>14365</th>\n",
              "      <td>G</td>\n",
              "      <td>0</td>\n",
              "    </tr>\n",
              "    <tr>\n",
              "      <th>14366</th>\n",
              "      <td>B</td>\n",
              "      <td>0</td>\n",
              "    </tr>\n",
              "    <tr>\n",
              "      <th>14367</th>\n",
              "      <td>G</td>\n",
              "      <td>0</td>\n",
              "    </tr>\n",
              "    <tr>\n",
              "      <th>14368</th>\n",
              "      <td>G</td>\n",
              "      <td>0</td>\n",
              "    </tr>\n",
              "  </tbody>\n",
              "</table>\n",
              "<p>14369 rows × 2 columns</p>\n",
              "</div>"
            ],
            "text/plain": [
              "      event1 event2\n",
              "0          S      S\n",
              "1          B      B\n",
              "2          G      D\n",
              "3          D      D\n",
              "4          G      A\n",
              "...      ...    ...\n",
              "14364      G      0\n",
              "14365      G      0\n",
              "14366      B      0\n",
              "14367      G      0\n",
              "14368      G      0\n",
              "\n",
              "[14369 rows x 2 columns]"
            ]
          },
          "metadata": {
            "tags": []
          },
          "execution_count": 21
        }
      ]
    },
    {
      "cell_type": "markdown",
      "metadata": {
        "id": "Wh6mgaB5xNjg"
      },
      "source": [
        "### Event 3"
      ]
    },
    {
      "cell_type": "code",
      "metadata": {
        "colab": {
          "base_uri": "https://localhost:8080/"
        },
        "id": "2yHuK4n6n-22",
        "outputId": "8d132c3d-9d1b-40ae-8c6f-7d42b8f1857a"
      },
      "source": [
        "# locate null exclusive rows and remove them\r\n",
        "pageviews = pageview_hist.drop(list(np.ravel(np.where(\\\r\n",
        "                                    pageview_hist['Last Page Seen Previous Value (2)'] == 0))))\r\n",
        "\r\n",
        "events = event_hist.drop(list(np.ravel(np.where(\\\r\n",
        "                                    event_hist['Last Registered Event Date Current Value'] == 0))))\r\n",
        "\r\n",
        "print('pageviews shape:', pageviews.shape)\r\n",
        "print('events shape:', events.shape)"
      ],
      "execution_count": 22,
      "outputs": [
        {
          "output_type": "stream",
          "text": [
            "pageviews shape: (24318, 9)\n",
            "events shape: (56081, 92)\n"
          ],
          "name": "stdout"
        }
      ]
    },
    {
      "cell_type": "code",
      "metadata": {
        "colab": {
          "base_uri": "https://localhost:8080/",
          "height": 0
        },
        "id": "0FYvCDZ_oK2V",
        "outputId": "024767ff-5739-4d5e-8314-59169944c07b"
      },
      "source": [
        "# preserve index order of pageviews\r\n",
        "idx = pageviews.index.to_list()\r\n",
        "\r\n",
        "# construct df containing url sequences and times\r\n",
        "url_sequences = pd.DataFrame([])\r\n",
        "url_sequences['ID'] = pageviews['Contact ID']\r\n",
        "url_sequences['event1'] = pageviews['Last Page Seen Current Value']\r\n",
        "url_sequences['t1'] = pageviews['Last Page Seen Change Date']\r\n",
        "url_sequences['event2'] = pageviews['Last Page Seen Previous Value (1)']\r\n",
        "url_sequences['t2'] = pageviews['Last Page Seen Change Date (1)']\r\n",
        "url_sequences['event3'] = pageviews['Last Page Seen Previous Value (2)']\r\n",
        "url_sequences['t3'] = pageviews['Last Page Seen Change Date (2)']\r\n",
        "url_sequences['event4'] = pageviews['...']\r\n",
        "\r\n",
        "# display first 5 rows of dataframe url_sequences\r\n",
        "print(\"URL SEQUENCES DF\")\r\n",
        "url_sequences.head(1)"
      ],
      "execution_count": 23,
      "outputs": [
        {
          "output_type": "stream",
          "text": [
            "URL SEQUENCES DF\n"
          ],
          "name": "stdout"
        },
        {
          "output_type": "execute_result",
          "data": {
            "text/html": [
              "<div>\n",
              "<style scoped>\n",
              "    .dataframe tbody tr th:only-of-type {\n",
              "        vertical-align: middle;\n",
              "    }\n",
              "\n",
              "    .dataframe tbody tr th {\n",
              "        vertical-align: top;\n",
              "    }\n",
              "\n",
              "    .dataframe thead th {\n",
              "        text-align: right;\n",
              "    }\n",
              "</style>\n",
              "<table border=\"1\" class=\"dataframe\">\n",
              "  <thead>\n",
              "    <tr style=\"text-align: right;\">\n",
              "      <th></th>\n",
              "      <th>ID</th>\n",
              "      <th>event1</th>\n",
              "      <th>t1</th>\n",
              "      <th>event2</th>\n",
              "      <th>t2</th>\n",
              "      <th>event3</th>\n",
              "      <th>t3</th>\n",
              "      <th>event4</th>\n",
              "    </tr>\n",
              "  </thead>\n",
              "  <tbody>\n",
              "    <tr>\n",
              "      <th>82</th>\n",
              "      <td>2354</td>\n",
              "      <td>https://www.deeplearning.ai/generative-adversa...</td>\n",
              "      <td>2020-09-30 17:17</td>\n",
              "      <td>https://www.deeplearning.ai/</td>\n",
              "      <td>2020-09-30 17:16</td>\n",
              "      <td>https://www.deeplearning.ai/blog/working-ai-bu...</td>\n",
              "      <td>2020-09-10 17:00</td>\n",
              "      <td>0</td>\n",
              "    </tr>\n",
              "  </tbody>\n",
              "</table>\n",
              "</div>"
            ],
            "text/plain": [
              "      ID  ... event4\n",
              "82  2354  ...      0\n",
              "\n",
              "[1 rows x 8 columns]"
            ]
          },
          "metadata": {
            "tags": []
          },
          "execution_count": 23
        }
      ]
    },
    {
      "cell_type": "code",
      "metadata": {
        "colab": {
          "base_uri": "https://localhost:8080/",
          "height": 0
        },
        "id": "1SRBRXcEobJF",
        "outputId": "e88efcf0-7322-4ffa-bebe-327ea8d2bb01"
      },
      "source": [
        "# prepare dataframe for urlparse function\r\n",
        "m = pd.DataFrame([])\r\n",
        "m['url'] = url_sequences['event1'].unique()\r\n",
        "\r\n",
        "# list of indices for sample tracking\r\n",
        "idx = m.index.to_list()\r\n",
        "\r\n",
        "# list of column names\r\n",
        "df_columns = ['scheme', 'netloc', 'path',\r\n",
        "              'params', 'query', 'fragment']\r\n",
        "\r\n",
        "# prepare null dataframe with columns = df_columns and index = idx\r\n",
        "url_segments = pd.DataFrame([], columns=df_columns, index=idx).fillna(0)\r\n",
        "\r\n",
        "# segment urls for categorization\r\n",
        "url_segments['scheme'] = [urlparse(m['url'][i]).scheme for i in range(len(idx))]\r\n",
        "url_segments['netloc'] = [urlparse(m['url'][i]).netloc for i in range(len(idx))]\r\n",
        "url_segments['path'] = [urlparse(m['url'][i]).path for i in range(len(idx))]\r\n",
        "url_segments['params'] = [urlparse(m['url'][i]).params for i in range(len(idx))]\r\n",
        "url_segments['query'] = [urlparse(m['url'][i]).query for i in range(len(idx))]\r\n",
        "url_segments['fragment'] = [urlparse(m['url'][i]).fragment for i in range(len(idx))]\r\n",
        "\r\n",
        "# display first 5 rows\r\n",
        "print('PARSED URLS DF')\r\n",
        "url_segments.head(1)"
      ],
      "execution_count": 24,
      "outputs": [
        {
          "output_type": "stream",
          "text": [
            "PARSED URLS DF\n"
          ],
          "name": "stdout"
        },
        {
          "output_type": "execute_result",
          "data": {
            "text/html": [
              "<div>\n",
              "<style scoped>\n",
              "    .dataframe tbody tr th:only-of-type {\n",
              "        vertical-align: middle;\n",
              "    }\n",
              "\n",
              "    .dataframe tbody tr th {\n",
              "        vertical-align: top;\n",
              "    }\n",
              "\n",
              "    .dataframe thead th {\n",
              "        text-align: right;\n",
              "    }\n",
              "</style>\n",
              "<table border=\"1\" class=\"dataframe\">\n",
              "  <thead>\n",
              "    <tr style=\"text-align: right;\">\n",
              "      <th></th>\n",
              "      <th>scheme</th>\n",
              "      <th>netloc</th>\n",
              "      <th>path</th>\n",
              "      <th>params</th>\n",
              "      <th>query</th>\n",
              "      <th>fragment</th>\n",
              "    </tr>\n",
              "  </thead>\n",
              "  <tbody>\n",
              "    <tr>\n",
              "      <th>0</th>\n",
              "      <td>https</td>\n",
              "      <td>www.deeplearning.ai</td>\n",
              "      <td>/generative-adversarial-networks-specialization/</td>\n",
              "      <td></td>\n",
              "      <td></td>\n",
              "      <td></td>\n",
              "    </tr>\n",
              "  </tbody>\n",
              "</table>\n",
              "</div>"
            ],
            "text/plain": [
              "  scheme               netloc  ... query fragment\n",
              "0  https  www.deeplearning.ai  ...               \n",
              "\n",
              "[1 rows x 6 columns]"
            ]
          },
          "metadata": {
            "tags": []
          },
          "execution_count": 24
        }
      ]
    },
    {
      "cell_type": "code",
      "metadata": {
        "id": "58YXw7e6tP2D"
      },
      "source": [
        "dic2 = { 'generative-adversarial-networks-specialization' : 'D',\r\n",
        "  'natural-language-processing-specialization' : 'D', 'blog' : 'B', 'thebatch' : 'G',\r\n",
        "  'machine-learning-yearning' : 'E', 'events' : 'C', 'forums' : 'F', '' : 'Q',\r\n",
        "  'deep-learning-specialization' : 'D', 'careers' : 'H', 'ai-for-medicine' : 'M',\r\n",
        "  'about-us' : 'I', 'course-signup' : 'J', 'tensorflow-in-practice' : 'K',\r\n",
        "  '1w-3kMnSXR9ynOeSC5vJWFQ3hul4' : 'Q', 'tensorflow-data-and-deployment' : 'K',\r\n",
        "  '1qOs8ajvWQGq4F4ClL_RbRA3hul4' : 'Q',\r\n",
        "  'become-a-deeplearning-ai-events-ambassador' : 'S', 'ai-for-everyone' : 'M',\r\n",
        "  'hs' : 'Q', 'contact-us' : 'I',\r\n",
        "  '-temporary-slug-45e6d038-071c-4c82-9eae-c664fa342a92' : 'Q', 'press' : 'I',\r\n",
        "  'ai-career-program-for-experienced-engineers' : 'H',\r\n",
        "  '-temporary-slug-2c0727dd-b118-46ff-a8ea-696379a06821' : 'Q',\r\n",
        "  '18b-0Xg-iTwW-qVdOXFow3w3hul4' : 'Q',\r\n",
        "  'tensorflow-from-basics-to-mastery' : 'K',\r\n",
        "  'ai-career-program-for-university-graduates' : 'H', 'bootcamp' : 'C',\r\n",
        "  'privacy' : 'I', 'page' : 'A', 'climate' : 'L', 'ai-nots' : 'M', 'dl-notes' : 'N',\r\n",
        "  '1uPx8FCrfQ3qWp_tv8WmCuA3hul4' : 'Q', 'ai-notes' : 'M',\r\n",
        "  '1sw5nCSRdRPWcbhr3a_03jg3hul4' : 'Q', 'ai-internship' : 'C', 'translate_c' : 'Q',\r\n",
        "  'newsletter-archive-test' : 'O'}"
      ],
      "execution_count": 25,
      "outputs": []
    },
    {
      "cell_type": "code",
      "metadata": {
        "id": "JQ0NY6Igox4E"
      },
      "source": [
        "# define variable paths \r\n",
        "paths = url_segments['path']\r\n",
        "\r\n",
        "# seperate strings in path by '/'\r\n",
        "unique_paths = pd.DataFrame([i.split('/') for i in \\\r\n",
        "                            url_segments['path'].unique()])[1].unique()"
      ],
      "execution_count": 26,
      "outputs": []
    },
    {
      "cell_type": "code",
      "metadata": {
        "id": "o31XCC1YuokB"
      },
      "source": [
        "# convert to pandas dataframe\r\n",
        "_paths = pd.DataFrame(unique_paths, columns=[\"unique_paths\"])\r\n",
        "\r\n",
        "# append path encodings \r\n",
        "_paths['encoded_paths'] = pd.DataFrame(data=[list(dic2.values())]).T\r\n",
        "\r\n",
        "# apply encodings to data set\r\n",
        "for i in [i for i in range(len(_paths)) if i != 7]:\r\n",
        "  idx2 = paths[paths.str.contains(f'{_paths[\"unique_paths\"].iloc[i]}')].index\r\n",
        "  paths[idx2] = _paths[\"encoded_paths\"].iloc[i]"
      ],
      "execution_count": 27,
      "outputs": []
    },
    {
      "cell_type": "code",
      "metadata": {
        "id": "m_li8vg2k1hT"
      },
      "source": [
        "netloc_dic = {'www.deeplearning.ai' : 'A', 'blog.deeplearning.ai' : 'B', 'share.hsforms.com' : 'P',\r\n",
        "       'info.deeplearning.ai' : 'I', 'www.mlyearning.org' : 'E', 'deeplearning.ai' : 'A',\r\n",
        "       'translate.googleusercontent.com' : 'A'}\r\n",
        "\r\n",
        "locs = url_segments['netloc'].iloc[paths.iloc[np.where(paths == '/')].index].map(netloc_dic)\r\n",
        "paths.iloc[locs.index] = locs"
      ],
      "execution_count": 28,
      "outputs": []
    },
    {
      "cell_type": "code",
      "metadata": {
        "colab": {
          "base_uri": "https://localhost:8080/",
          "height": 0
        },
        "id": "Sadh4cIZu0Pp",
        "outputId": "9532d63a-dec7-498d-c148-4642141843ef"
      },
      "source": [
        "X['event3'] = paths\r\n",
        "X.fillna(0)"
      ],
      "execution_count": 29,
      "outputs": [
        {
          "output_type": "execute_result",
          "data": {
            "text/html": [
              "<div>\n",
              "<style scoped>\n",
              "    .dataframe tbody tr th:only-of-type {\n",
              "        vertical-align: middle;\n",
              "    }\n",
              "\n",
              "    .dataframe tbody tr th {\n",
              "        vertical-align: top;\n",
              "    }\n",
              "\n",
              "    .dataframe thead th {\n",
              "        text-align: right;\n",
              "    }\n",
              "</style>\n",
              "<table border=\"1\" class=\"dataframe\">\n",
              "  <thead>\n",
              "    <tr style=\"text-align: right;\">\n",
              "      <th></th>\n",
              "      <th>event1</th>\n",
              "      <th>event2</th>\n",
              "      <th>event3</th>\n",
              "    </tr>\n",
              "  </thead>\n",
              "  <tbody>\n",
              "    <tr>\n",
              "      <th>0</th>\n",
              "      <td>S</td>\n",
              "      <td>S</td>\n",
              "      <td>D</td>\n",
              "    </tr>\n",
              "    <tr>\n",
              "      <th>1</th>\n",
              "      <td>B</td>\n",
              "      <td>B</td>\n",
              "      <td>D</td>\n",
              "    </tr>\n",
              "    <tr>\n",
              "      <th>2</th>\n",
              "      <td>G</td>\n",
              "      <td>D</td>\n",
              "      <td>B</td>\n",
              "    </tr>\n",
              "    <tr>\n",
              "      <th>3</th>\n",
              "      <td>D</td>\n",
              "      <td>D</td>\n",
              "      <td>B</td>\n",
              "    </tr>\n",
              "    <tr>\n",
              "      <th>4</th>\n",
              "      <td>G</td>\n",
              "      <td>A</td>\n",
              "      <td>B</td>\n",
              "    </tr>\n",
              "    <tr>\n",
              "      <th>...</th>\n",
              "      <td>...</td>\n",
              "      <td>...</td>\n",
              "      <td>...</td>\n",
              "    </tr>\n",
              "    <tr>\n",
              "      <th>14364</th>\n",
              "      <td>G</td>\n",
              "      <td>0</td>\n",
              "      <td>0</td>\n",
              "    </tr>\n",
              "    <tr>\n",
              "      <th>14365</th>\n",
              "      <td>G</td>\n",
              "      <td>0</td>\n",
              "      <td>0</td>\n",
              "    </tr>\n",
              "    <tr>\n",
              "      <th>14366</th>\n",
              "      <td>B</td>\n",
              "      <td>0</td>\n",
              "      <td>0</td>\n",
              "    </tr>\n",
              "    <tr>\n",
              "      <th>14367</th>\n",
              "      <td>G</td>\n",
              "      <td>0</td>\n",
              "      <td>0</td>\n",
              "    </tr>\n",
              "    <tr>\n",
              "      <th>14368</th>\n",
              "      <td>G</td>\n",
              "      <td>0</td>\n",
              "      <td>0</td>\n",
              "    </tr>\n",
              "  </tbody>\n",
              "</table>\n",
              "<p>14369 rows × 3 columns</p>\n",
              "</div>"
            ],
            "text/plain": [
              "      event1 event2 event3\n",
              "0          S      S      D\n",
              "1          B      B      D\n",
              "2          G      D      B\n",
              "3          D      D      B\n",
              "4          G      A      B\n",
              "...      ...    ...    ...\n",
              "14364      G      0      0\n",
              "14365      G      0      0\n",
              "14366      B      0      0\n",
              "14367      G      0      0\n",
              "14368      G      0      0\n",
              "\n",
              "[14369 rows x 3 columns]"
            ]
          },
          "metadata": {
            "tags": []
          },
          "execution_count": 29
        }
      ]
    },
    {
      "cell_type": "markdown",
      "metadata": {
        "id": "4AfEGGpClA0C"
      },
      "source": [
        "### Event 4"
      ]
    },
    {
      "cell_type": "code",
      "metadata": {
        "colab": {
          "base_uri": "https://localhost:8080/"
        },
        "id": "vZzOekIDk_fl",
        "outputId": "8d3cb8fa-1f7e-44b9-e5b5-f55350e73ebd"
      },
      "source": [
        "# locate null exclusive rows and remove them\r\n",
        "pageviews = pageview_hist.drop(list(np.ravel(np.where(\\\r\n",
        "                                    pageview_hist['...'] == 0))))\r\n",
        "\r\n",
        "print('pageviews shape:', pageviews.shape)"
      ],
      "execution_count": 58,
      "outputs": [
        {
          "output_type": "stream",
          "text": [
            "pageviews shape: (16463, 9)\n"
          ],
          "name": "stdout"
        }
      ]
    },
    {
      "cell_type": "code",
      "metadata": {
        "colab": {
          "base_uri": "https://localhost:8080/",
          "height": 95
        },
        "id": "uKPyi3p0lFxr",
        "outputId": "053a7f15-05ee-4661-a24f-e2e4216b3fbc"
      },
      "source": [
        "# preserve index order of pageviews\r\n",
        "idx = pageviews.index.to_list()\r\n",
        "\r\n",
        "# construct df containing url sequences and times\r\n",
        "url_sequences = pd.DataFrame([])\r\n",
        "url_sequences['ID'] = pageviews['Contact ID']\r\n",
        "url_sequences['event1'] = pageviews['Last Page Seen Current Value']\r\n",
        "url_sequences['t1'] = pageviews['Last Page Seen Change Date']\r\n",
        "url_sequences['event2'] = pageviews['Last Page Seen Previous Value (1)']\r\n",
        "url_sequences['t2'] = pageviews['Last Page Seen Change Date (1)']\r\n",
        "url_sequences['event3'] = pageviews['Last Page Seen Previous Value (2)']\r\n",
        "url_sequences['t3'] = pageviews['Last Page Seen Change Date (2)']\r\n",
        "url_sequences['event4'] = pageviews['...']\r\n",
        "\r\n",
        "# display first 5 rows of dataframe url_sequences\r\n",
        "print(\"URL SEQUENCES DF\")\r\n",
        "url_sequences.head(1)"
      ],
      "execution_count": 59,
      "outputs": [
        {
          "output_type": "stream",
          "text": [
            "URL SEQUENCES DF\n"
          ],
          "name": "stdout"
        },
        {
          "output_type": "execute_result",
          "data": {
            "text/html": [
              "<div>\n",
              "<style scoped>\n",
              "    .dataframe tbody tr th:only-of-type {\n",
              "        vertical-align: middle;\n",
              "    }\n",
              "\n",
              "    .dataframe tbody tr th {\n",
              "        vertical-align: top;\n",
              "    }\n",
              "\n",
              "    .dataframe thead th {\n",
              "        text-align: right;\n",
              "    }\n",
              "</style>\n",
              "<table border=\"1\" class=\"dataframe\">\n",
              "  <thead>\n",
              "    <tr style=\"text-align: right;\">\n",
              "      <th></th>\n",
              "      <th>ID</th>\n",
              "      <th>event1</th>\n",
              "      <th>t1</th>\n",
              "      <th>event2</th>\n",
              "      <th>t2</th>\n",
              "      <th>event3</th>\n",
              "      <th>t3</th>\n",
              "      <th>event4</th>\n",
              "    </tr>\n",
              "  </thead>\n",
              "  <tbody>\n",
              "    <tr>\n",
              "      <th>92</th>\n",
              "      <td>233</td>\n",
              "      <td>https://www.deeplearning.ai/natural-language-p...</td>\n",
              "      <td>2020-09-29 06:56</td>\n",
              "      <td>https://www.deeplearning.ai/</td>\n",
              "      <td>2020-09-29 06:55</td>\n",
              "      <td>https://www.deeplearning.ai/events/</td>\n",
              "      <td>2020-09-23 07:55</td>\n",
              "      <td>https://www.deeplearning.ai/thebatch/</td>\n",
              "    </tr>\n",
              "  </tbody>\n",
              "</table>\n",
              "</div>"
            ],
            "text/plain": [
              "     ID  ...                                 event4\n",
              "92  233  ...  https://www.deeplearning.ai/thebatch/\n",
              "\n",
              "[1 rows x 8 columns]"
            ]
          },
          "metadata": {
            "tags": []
          },
          "execution_count": 59
        }
      ]
    },
    {
      "cell_type": "code",
      "metadata": {
        "colab": {
          "base_uri": "https://localhost:8080/",
          "height": 95
        },
        "id": "w3TNfKrjloNz",
        "outputId": "442669be-d28f-4b74-b1f5-d6c0b30fcefb"
      },
      "source": [
        "# prepare dataframe for urlparse function\r\n",
        "m = pd.DataFrame([])\r\n",
        "m['url'] = url_sequences['event1'].unique()\r\n",
        "\r\n",
        "# list of indices for sample tracking\r\n",
        "idx = m.index.to_list()\r\n",
        "\r\n",
        "# list of column names\r\n",
        "df_columns = ['scheme', 'netloc', 'path',\r\n",
        "              'params', 'query', 'fragment']\r\n",
        "\r\n",
        "# prepare null dataframe with columns = df_columns and index = idx\r\n",
        "url_segments = pd.DataFrame([], columns=df_columns, index=idx).fillna(0)\r\n",
        "\r\n",
        "# segment urls for categorization\r\n",
        "url_segments['scheme'] = [urlparse(m['url'][i]).scheme for i in range(len(idx))]\r\n",
        "url_segments['netloc'] = [urlparse(m['url'][i]).netloc for i in range(len(idx))]\r\n",
        "url_segments['path'] = [urlparse(m['url'][i]).path for i in range(len(idx))]\r\n",
        "url_segments['params'] = [urlparse(m['url'][i]).params for i in range(len(idx))]\r\n",
        "url_segments['query'] = [urlparse(m['url'][i]).query for i in range(len(idx))]\r\n",
        "url_segments['fragment'] = [urlparse(m['url'][i]).fragment for i in range(len(idx))]\r\n",
        "\r\n",
        "# display first 5 rows\r\n",
        "print('PARSED URLS DF')\r\n",
        "url_segments.head(1)"
      ],
      "execution_count": 71,
      "outputs": [
        {
          "output_type": "stream",
          "text": [
            "PARSED URLS DF\n"
          ],
          "name": "stdout"
        },
        {
          "output_type": "execute_result",
          "data": {
            "text/html": [
              "<div>\n",
              "<style scoped>\n",
              "    .dataframe tbody tr th:only-of-type {\n",
              "        vertical-align: middle;\n",
              "    }\n",
              "\n",
              "    .dataframe tbody tr th {\n",
              "        vertical-align: top;\n",
              "    }\n",
              "\n",
              "    .dataframe thead th {\n",
              "        text-align: right;\n",
              "    }\n",
              "</style>\n",
              "<table border=\"1\" class=\"dataframe\">\n",
              "  <thead>\n",
              "    <tr style=\"text-align: right;\">\n",
              "      <th></th>\n",
              "      <th>scheme</th>\n",
              "      <th>netloc</th>\n",
              "      <th>path</th>\n",
              "      <th>params</th>\n",
              "      <th>query</th>\n",
              "      <th>fragment</th>\n",
              "    </tr>\n",
              "  </thead>\n",
              "  <tbody>\n",
              "    <tr>\n",
              "      <th>0</th>\n",
              "      <td>https</td>\n",
              "      <td>www.deeplearning.ai</td>\n",
              "      <td>/natural-language-processing-specialization/</td>\n",
              "      <td></td>\n",
              "      <td></td>\n",
              "      <td></td>\n",
              "    </tr>\n",
              "  </tbody>\n",
              "</table>\n",
              "</div>"
            ],
            "text/plain": [
              "  scheme               netloc  ... query fragment\n",
              "0  https  www.deeplearning.ai  ...               \n",
              "\n",
              "[1 rows x 6 columns]"
            ]
          },
          "metadata": {
            "tags": []
          },
          "execution_count": 71
        }
      ]
    },
    {
      "cell_type": "code",
      "metadata": {
        "id": "b4ef1SoVlQAa"
      },
      "source": [
        "# define variable paths \r\n",
        "paths = url_segments['path']\r\n",
        "\r\n",
        "# seperate strings in path by '/'\r\n",
        "unique_paths = pd.DataFrame([i.split('/') for i in \\\r\n",
        "                            url_segments['path'].unique()])[1].unique()"
      ],
      "execution_count": 72,
      "outputs": []
    },
    {
      "cell_type": "code",
      "metadata": {
        "id": "FCEup6r8lsR5"
      },
      "source": [
        "dic4 = {'natural-language-processing-specialization' : 'D', 'blog' : 'B', 'thebatch' : 'G',\r\n",
        "       'machine-learning-yearning' : 'E', 'forums' : 'F', '' : 'Q',\r\n",
        "       'deep-learning-specialization' : 'D', 'careers' : 'H',\r\n",
        "       'generative-adversarial-networks-specialization' : 'D',\r\n",
        "       'ai-for-medicine' : 'D', 'events' : 'C', 'about-us' : 'I', 'course-signup' : 'P',\r\n",
        "       'tensorflow-in-practice' : 'K', '1w-3kMnSXR9ynOeSC5vJWFQ3hul4' : 'Q',\r\n",
        "       'tensorflow-data-and-deployment' : 'K', '1qOs8ajvWQGq4F4ClL_RbRA3hul4' : 'Q',\r\n",
        "       'ai-for-everyone' : 'M', 'hs' : 'Q', 'contact-us' : 'I',\r\n",
        "       'become-a-deeplearning-ai-events-ambassador' : 'S',\r\n",
        "       '-temporary-slug-45e6d038-071c-4c82-9eae-c664fa342a92' : 'Q', 'press' : 'I',\r\n",
        "       '-temporary-slug-2c0727dd-b118-46ff-a8ea-696379a06821' : 'Q',\r\n",
        "       'ai-career-program-for-experienced-engineers' : 'H',\r\n",
        "       'tensorflow-from-basics-to-mastery' : 'K',\r\n",
        "       'ai-career-program-for-university-graduates' : 'H', 'bootcamp' : 'C',\r\n",
        "       '18b-0Xg-iTwW-qVdOXFow3w3hul4' : 'Q', 'privacy' : 'I', 'page' : 'A', 'climate' : 'L',\r\n",
        "       'ai-nots' : 'M', 'dl-notes' : 'N', 'ai-notes' : 'N', '1sw5nCSRdRPWcbhr3a_03jg3hul4' : 'Q',\r\n",
        "       '1uPx8FCrfQ3qWp_tv8WmCuA3hul4' : 'Q', 'ai-internship' : 'H', 'translate_c' : 'Q',\r\n",
        "       'newsletter-archive-test' : 'O'}"
      ],
      "execution_count": 62,
      "outputs": []
    },
    {
      "cell_type": "code",
      "metadata": {
        "id": "gXTUMrv2n6q4"
      },
      "source": [
        "# convert to pandas dataframe\r\n",
        "_paths = pd.DataFrame(unique_paths, columns=[\"unique_paths\"])\r\n",
        "\r\n",
        "# append path encodings \r\n",
        "_paths['encoded_paths'] = pd.DataFrame(data=[list(dic4.values())]).T\r\n",
        "\r\n",
        "# apply encodings to data set\r\n",
        "for i in [i for i in range(len(_paths)) if i != 5]:\r\n",
        "  idx2 = paths[paths.str.contains(f'{_paths[\"unique_paths\"].iloc[i]}')].index\r\n",
        "  paths[idx2] = _paths[\"encoded_paths\"].iloc[i]"
      ],
      "execution_count": 73,
      "outputs": []
    },
    {
      "cell_type": "code",
      "metadata": {
        "id": "5xBnShj_n6q-"
      },
      "source": [
        "netloc_dic = {'www.deeplearning.ai' : 'A', 'blog.deeplearning.ai' : 'B', 'share.hsforms.com' : 'P',\r\n",
        "       'info.deeplearning.ai' : 'I', 'www.mlyearning.org' : 'E', 'deeplearning.ai' : 'A',\r\n",
        "       'translate.googleusercontent.com' : 'A'}\r\n",
        "\r\n",
        "locs = url_segments['netloc'].iloc[paths.iloc[np.where(paths == '/')].index].map(netloc_dic)\r\n",
        "paths.iloc[locs.index] = locs"
      ],
      "execution_count": 75,
      "outputs": []
    },
    {
      "cell_type": "code",
      "metadata": {
        "id": "TY9P9PPzn_TD"
      },
      "source": [
        "X['event4'] = paths\r\n",
        "X.fillna(0)\r\n",
        "X.to_csv('X.csv')"
      ],
      "execution_count": 77,
      "outputs": []
    }
  ]
}