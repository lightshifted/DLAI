{
 "cells": [
  {
   "cell_type": "code",
   "execution_count": 1,
   "metadata": {},
   "outputs": [],
   "source": [
    "# Import libraries \n",
    "import pandas as pd\n",
    "import numpy as np\n",
    "import matplotlib.pyplot as plt\n",
    "from urllib.parse import urlparse"
   ]
  },
  {
   "cell_type": "code",
   "execution_count": 3,
   "metadata": {},
   "outputs": [
    {
     "name": "stderr",
     "output_type": "stream",
     "text": [
      "C:\\Users\\Hedronstone\\Anaconda3\\lib\\site-packages\\IPython\\core\\interactiveshell.py:3058: DtypeWarning: Columns (8) have mixed types. Specify dtype option on import or set low_memory=False.\n",
      "  interactivity=interactivity, compiler=compiler, result=result)\n"
     ]
    }
   ],
   "source": [
    "# load data\n",
    "pageview_hist = pd.read_csv('data/pageview_hist.csv', encoding='utf-8').fillna(0)\n",
    "hubspot_export = pd.read_csv('data/hubspot_export.csv', encoding='utf-8').fillna(0)"
   ]
  },
  {
   "cell_type": "code",
   "execution_count": 4,
   "metadata": {},
   "outputs": [],
   "source": [
    "\"\"\"\n",
    "0. 'Contact ID', \n",
    "1. 'Became a Lead Date', \n",
    "2. 'Became a Subscriber Date',\n",
    "3. 'Became an Opportunity Date', \n",
    "4. 'First Conversion Date',\n",
    "5. 'First marketing email click date', \n",
    "6. 'First marketing email open date',\n",
    "7. 'First marketing email send date', \n",
    "8. 'Last Activity Date',\n",
    "9. 'Last marketing email click date', \n",
    "10. 'Last marketing email name',\n",
    "11. 'Last marketing email open date', \n",
    "12. 'Last marketing email send date',\n",
    "13. 'Average Pageviews', \n",
    "14. 'First Page Seen', \n",
    "15. 'Last Page Seen',\n",
    "16. 'Number of Pageviews', \n",
    "17. 'Number of Sessions', \n",
    "18. 'Marketing emails opened',\n",
    "19. 'Marketing emails delivered', \n",
    "20. 'Marketing emails clicked',\n",
    "21. 'Opted out of email: Events and Community',\n",
    "22. 'Opted out of email: Program Announcements',\n",
    "23. 'Opted out of email: The Batch', \n",
    "24. 'Unsubscribed from all email',\n",
    "25. 'Which of the following online courses have you taken from deeplearning.ai?',\n",
    "26. 'Last Registered Event', \n",
    "27. 'Last Registered Event Date',\n",
    "28. 'Number of event completions', \n",
    "29. 'Highest level of completed education',\n",
    "30. 'Job Title or Function', \n",
    "31. 'IP Country', \n",
    "32. 'IP Country Code',\n",
    "33. 'Associated Company ID'\n",
    "\"\"\"\n",
    "\n",
    "cols = hubspot_export.columns\n",
    "cols2use = [0, 16, 17, 18, 19, 20, 21, 22, 23, 24, 25, 26, 28, 29, 30, 31, 33]"
   ]
  },
  {
   "cell_type": "code",
   "execution_count": 6,
   "metadata": {},
   "outputs": [],
   "source": [
    "df = pd.read_csv('data/X.csv')"
   ]
  },
  {
   "cell_type": "code",
   "execution_count": 7,
   "metadata": {},
   "outputs": [],
   "source": [
    "cero = df.iloc[np.where(df['cluster'] == 0)]\n",
    "uno = df.iloc[np.where(df['cluster'] == 1)]\n",
    "dos = df.iloc[np.where(df['cluster'] == 2)]\n",
    "tres = df.iloc[np.where(df['cluster'] == 3)]"
   ]
  },
  {
   "cell_type": "code",
   "execution_count": null,
   "metadata": {},
   "outputs": [],
   "source": []
  }
 ],
 "metadata": {
  "kernelspec": {
   "display_name": "Python 3",
   "language": "python",
   "name": "python3"
  },
  "language_info": {
   "codemirror_mode": {
    "name": "ipython",
    "version": 3
   },
   "file_extension": ".py",
   "mimetype": "text/x-python",
   "name": "python",
   "nbconvert_exporter": "python",
   "pygments_lexer": "ipython3",
   "version": "3.7.4"
  }
 },
 "nbformat": 4,
 "nbformat_minor": 2
}
