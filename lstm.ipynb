{
  "nbformat": 4,
  "nbformat_minor": 0,
  "metadata": {
    "colab": {
      "name": "lstm.ipynb",
      "provenance": []
    },
    "kernelspec": {
      "name": "python3",
      "display_name": "Python 3"
    }
  },
  "cells": [
    {
      "cell_type": "markdown",
      "metadata": {
        "id": "sb6-0GcxuyOS"
      },
      "source": [
        "### Mount Drive"
      ]
    },
    {
      "cell_type": "code",
      "metadata": {
        "colab": {
          "base_uri": "https://localhost:8080/"
        },
        "id": "7f9d0N1hX251",
        "outputId": "88d5ae61-c660-4020-f82a-138749618d43"
      },
      "source": [
        "# Mount Drive\r\n",
        "from google.colab import drive\r\n",
        "drive.mount('/content/drive') "
      ],
      "execution_count": null,
      "outputs": [
        {
          "output_type": "stream",
          "text": [
            "Drive already mounted at /content/drive; to attempt to forcibly remount, call drive.mount(\"/content/drive\", force_remount=True).\n"
          ],
          "name": "stdout"
        }
      ]
    },
    {
      "cell_type": "code",
      "metadata": {
        "colab": {
          "base_uri": "https://localhost:8080/"
        },
        "id": "oz87HUx4X7Fn",
        "outputId": "d08b20f7-6263-4a48-92d5-03e7145b5f93"
      },
      "source": [
        "import os\r\n",
        "# The path below should point to the directory containing this notebook and \r\n",
        "# the associated utility files\r\n",
        "os.chdir('drive/MyDrive/Colab Notebooks/FourthBrain/data/')\r\n",
        "!ls"
      ],
      "execution_count": null,
      "outputs": [
        {
          "output_type": "stream",
          "text": [
            "all_contacts.csv\t\t\t lstm.ipynb\n",
            "df_complete.csv\t\t\t\t pageview_hist.csv\n",
            "email_field_hist.csv\t\t\t preprocess_data_clustering.ipynb\n",
            "event_hist.csv\t\t\t\t Reports\n",
            "hub_spot_export_clean01212021.pkl\t students_conversion_clean01212021.pkl\n",
            "hubspot_export.csv\t\t\t url_preprocess.ipynb\n",
            "last-registered-event-field-history.csv\n"
          ],
          "name": "stdout"
        }
      ]
    },
    {
      "cell_type": "markdown",
      "metadata": {
        "id": "XIzwgdYzu3JZ"
      },
      "source": [
        "### Load Data"
      ]
    },
    {
      "cell_type": "code",
      "metadata": {
        "id": "Eud0-armX-Jv"
      },
      "source": [
        "# Import libraries \r\n",
        "import pandas as pd\r\n",
        "import numpy as np\r\n",
        "import matplotlib.pyplot as plt\r\n",
        "from urllib.parse import urlparse"
      ],
      "execution_count": null,
      "outputs": []
    },
    {
      "cell_type": "code",
      "metadata": {
        "colab": {
          "base_uri": "https://localhost:8080/"
        },
        "id": "MlkTv7NjYAvf",
        "outputId": "e16526e1-c713-4bf4-b3d9-38df15806569"
      },
      "source": [
        "# load data \r\n",
        "df = pd.read_csv('df_complete.csv')"
      ],
      "execution_count": null,
      "outputs": [
        {
          "output_type": "stream",
          "text": [
            "/usr/local/lib/python3.6/dist-packages/IPython/core/interactiveshell.py:2718: DtypeWarning: Columns (9) have mixed types.Specify dtype option on import or set low_memory=False.\n",
            "  interactivity=interactivity, compiler=compiler, result=result)\n"
          ],
          "name": "stderr"
        }
      ]
    },
    {
      "cell_type": "markdown",
      "metadata": {
        "id": "-lm844dkviXZ"
      },
      "source": [
        "### Preprocess Data"
      ]
    },
    {
      "cell_type": "code",
      "metadata": {
        "id": "ez3UcmI4YM8J"
      },
      "source": [
        "# drop samples without pageview history\r\n",
        "pageviews = df.drop(list(np.ravel(np.where(\r\n",
        "    df['url0'] == 0 \r\n",
        "    ))))\r\n",
        "\r\n",
        "# drop useless column\r\n",
        "pageviews = pageviews.drop(columns='Unnamed: 0')"
      ],
      "execution_count": null,
      "outputs": []
    },
    {
      "cell_type": "code",
      "metadata": {
        "id": "4ySR_vA6Zuco"
      },
      "source": [
        "cols2drop = [\r\n",
        " 'Became a Lead Date',\r\n",
        " 'Became a Subscriber Date',\r\n",
        " 'Became an Opportunity Date',\r\n",
        " 'First Conversion Date',\r\n",
        " 'First marketing email click date',\r\n",
        " 'First marketing email open date',\r\n",
        " 'First marketing email send date',\r\n",
        " 'Last Activity Date',\r\n",
        " 'Last marketing email click date',\r\n",
        " 'Last marketing email name',\r\n",
        " 'Last marketing email open date',\r\n",
        " 'Last marketing email send date',\r\n",
        " 'First Page Seen',\r\n",
        " 'Last Page Seen',\r\n",
        " 'Marketing emails opened',\r\n",
        " 'Marketing emails delivered',\r\n",
        " 'Marketing emails clicked',\r\n",
        " 'Opted out of email: Events and Community',\r\n",
        " 'Opted out of email: Program Announcements',\r\n",
        " 'Opted out of email: The Batch',\r\n",
        " 'Unsubscribed from all email',\r\n",
        " 'Which of the following online courses have you taken from deeplearning.ai?',\r\n",
        " 'Last Registered Event',\r\n",
        " 'Last Registered Event Date',\r\n",
        " 'Number of event completions',\r\n",
        " 'Highest level of completed education',\r\n",
        " 'Job Title or Function',\r\n",
        " 'IP Country Code',\r\n",
        " 'Associated Company ID',]\r\n",
        "\r\n",
        "# drop columns and store in X\r\n",
        "X = pageviews.drop(columns=cols2drop)"
      ],
      "execution_count": null,
      "outputs": []
    },
    {
      "cell_type": "code",
      "metadata": {
        "id": "L0gtV4iLm1S8"
      },
      "source": [
        "# create dictionary of country encodings \r\n",
        "countries = dict(zip(X['IP Country'].unique(), list(range(len(s)))))\r\n",
        "\r\n",
        "# map encodings to X\r\n",
        "X['IP Country'] = X['IP Country'].map(countries)"
      ],
      "execution_count": null,
      "outputs": []
    },
    {
      "cell_type": "code",
      "metadata": {
        "id": "m4H6oHezuaK5"
      },
      "source": [
        "# create column identifying paid learners\r\n",
        "r,m = np.where(X.iloc[:, 5:9] == 6)\r\n",
        "X['purchase'] = 0\r\n",
        "X['purchase'].iloc[r] = 1"
      ],
      "execution_count": null,
      "outputs": []
    },
    {
      "cell_type": "code",
      "metadata": {
        "id": "JJpnqb8YYk14"
      },
      "source": [
        "# save X to csv\r\n",
        "X.to_csv('urls_encoded.csv')"
      ],
      "execution_count": null,
      "outputs": []
    },
    {
      "cell_type": "code",
      "metadata": {
        "colab": {
          "base_uri": "https://localhost:8080/",
          "height": 406
        },
        "id": "181xgd-juvZJ",
        "outputId": "fb05b8d8-7eb8-48b7-82ec-435248eac23a"
      },
      "source": [
        "X"
      ],
      "execution_count": null,
      "outputs": [
        {
          "output_type": "execute_result",
          "data": {
            "text/html": [
              "<div>\n",
              "<style scoped>\n",
              "    .dataframe tbody tr th:only-of-type {\n",
              "        vertical-align: middle;\n",
              "    }\n",
              "\n",
              "    .dataframe tbody tr th {\n",
              "        vertical-align: top;\n",
              "    }\n",
              "\n",
              "    .dataframe thead th {\n",
              "        text-align: right;\n",
              "    }\n",
              "</style>\n",
              "<table border=\"1\" class=\"dataframe\">\n",
              "  <thead>\n",
              "    <tr style=\"text-align: right;\">\n",
              "      <th></th>\n",
              "      <th>Contact ID</th>\n",
              "      <th>Average Pageviews</th>\n",
              "      <th>Number of Pageviews</th>\n",
              "      <th>Number of Sessions</th>\n",
              "      <th>IP Country</th>\n",
              "      <th>url0</th>\n",
              "      <th>url1</th>\n",
              "      <th>url2</th>\n",
              "      <th>url3</th>\n",
              "      <th>specialization</th>\n",
              "      <th>purchase</th>\n",
              "    </tr>\n",
              "  </thead>\n",
              "  <tbody>\n",
              "    <tr>\n",
              "      <th>5</th>\n",
              "      <td>333</td>\n",
              "      <td>3</td>\n",
              "      <td>3</td>\n",
              "      <td>1</td>\n",
              "      <td>0</td>\n",
              "      <td>1</td>\n",
              "      <td>3</td>\n",
              "      <td>0</td>\n",
              "      <td>0</td>\n",
              "      <td>0</td>\n",
              "      <td>0</td>\n",
              "    </tr>\n",
              "    <tr>\n",
              "      <th>15</th>\n",
              "      <td>869</td>\n",
              "      <td>1</td>\n",
              "      <td>2</td>\n",
              "      <td>2</td>\n",
              "      <td>1</td>\n",
              "      <td>2</td>\n",
              "      <td>3</td>\n",
              "      <td>0</td>\n",
              "      <td>0</td>\n",
              "      <td>0</td>\n",
              "      <td>0</td>\n",
              "    </tr>\n",
              "    <tr>\n",
              "      <th>24</th>\n",
              "      <td>1071</td>\n",
              "      <td>1</td>\n",
              "      <td>6</td>\n",
              "      <td>5</td>\n",
              "      <td>2</td>\n",
              "      <td>3</td>\n",
              "      <td>0</td>\n",
              "      <td>0</td>\n",
              "      <td>0</td>\n",
              "      <td>0</td>\n",
              "      <td>0</td>\n",
              "    </tr>\n",
              "    <tr>\n",
              "      <th>36</th>\n",
              "      <td>1634</td>\n",
              "      <td>0</td>\n",
              "      <td>0</td>\n",
              "      <td>1</td>\n",
              "      <td>0</td>\n",
              "      <td>3</td>\n",
              "      <td>0</td>\n",
              "      <td>0</td>\n",
              "      <td>0</td>\n",
              "      <td>0</td>\n",
              "      <td>0</td>\n",
              "    </tr>\n",
              "    <tr>\n",
              "      <th>62</th>\n",
              "      <td>1991</td>\n",
              "      <td>1</td>\n",
              "      <td>1</td>\n",
              "      <td>1</td>\n",
              "      <td>3</td>\n",
              "      <td>4</td>\n",
              "      <td>0</td>\n",
              "      <td>0</td>\n",
              "      <td>0</td>\n",
              "      <td>0</td>\n",
              "      <td>0</td>\n",
              "    </tr>\n",
              "    <tr>\n",
              "      <th>...</th>\n",
              "      <td>...</td>\n",
              "      <td>...</td>\n",
              "      <td>...</td>\n",
              "      <td>...</td>\n",
              "      <td>...</td>\n",
              "      <td>...</td>\n",
              "      <td>...</td>\n",
              "      <td>...</td>\n",
              "      <td>...</td>\n",
              "      <td>...</td>\n",
              "      <td>...</td>\n",
              "    </tr>\n",
              "    <tr>\n",
              "      <th>325012</th>\n",
              "      <td>53456301</td>\n",
              "      <td>0</td>\n",
              "      <td>0</td>\n",
              "      <td>1</td>\n",
              "      <td>0</td>\n",
              "      <td>5</td>\n",
              "      <td>0</td>\n",
              "      <td>0</td>\n",
              "      <td>0</td>\n",
              "      <td>0</td>\n",
              "      <td>0</td>\n",
              "    </tr>\n",
              "    <tr>\n",
              "      <th>325013</th>\n",
              "      <td>53463951</td>\n",
              "      <td>0</td>\n",
              "      <td>0</td>\n",
              "      <td>1</td>\n",
              "      <td>7</td>\n",
              "      <td>4</td>\n",
              "      <td>0</td>\n",
              "      <td>0</td>\n",
              "      <td>0</td>\n",
              "      <td>0</td>\n",
              "      <td>0</td>\n",
              "    </tr>\n",
              "    <tr>\n",
              "      <th>325018</th>\n",
              "      <td>53479151</td>\n",
              "      <td>0</td>\n",
              "      <td>0</td>\n",
              "      <td>2</td>\n",
              "      <td>65</td>\n",
              "      <td>3</td>\n",
              "      <td>0</td>\n",
              "      <td>0</td>\n",
              "      <td>0</td>\n",
              "      <td>0</td>\n",
              "      <td>0</td>\n",
              "    </tr>\n",
              "    <tr>\n",
              "      <th>325020</th>\n",
              "      <td>53485401</td>\n",
              "      <td>3</td>\n",
              "      <td>3</td>\n",
              "      <td>1</td>\n",
              "      <td>38</td>\n",
              "      <td>5</td>\n",
              "      <td>3</td>\n",
              "      <td>5</td>\n",
              "      <td>0</td>\n",
              "      <td>0</td>\n",
              "      <td>0</td>\n",
              "    </tr>\n",
              "    <tr>\n",
              "      <th>325021</th>\n",
              "      <td>53489801</td>\n",
              "      <td>1</td>\n",
              "      <td>1</td>\n",
              "      <td>1</td>\n",
              "      <td>18</td>\n",
              "      <td>3</td>\n",
              "      <td>0</td>\n",
              "      <td>0</td>\n",
              "      <td>0</td>\n",
              "      <td>0</td>\n",
              "      <td>0</td>\n",
              "    </tr>\n",
              "  </tbody>\n",
              "</table>\n",
              "<p>90345 rows × 11 columns</p>\n",
              "</div>"
            ],
            "text/plain": [
              "        Contact ID  Average Pageviews  ...  specialization  purchase\n",
              "5              333                  3  ...               0         0\n",
              "15             869                  1  ...               0         0\n",
              "24            1071                  1  ...               0         0\n",
              "36            1634                  0  ...               0         0\n",
              "62            1991                  1  ...               0         0\n",
              "...            ...                ...  ...             ...       ...\n",
              "325012    53456301                  0  ...               0         0\n",
              "325013    53463951                  0  ...               0         0\n",
              "325018    53479151                  0  ...               0         0\n",
              "325020    53485401                  3  ...               0         0\n",
              "325021    53489801                  1  ...               0         0\n",
              "\n",
              "[90345 rows x 11 columns]"
            ]
          },
          "metadata": {
            "tags": []
          },
          "execution_count": 136
        }
      ]
    },
    {
      "cell_type": "code",
      "metadata": {
        "id": "J1SdLxNRuwCy"
      },
      "source": [
        ""
      ],
      "execution_count": null,
      "outputs": []
    }
  ]
}