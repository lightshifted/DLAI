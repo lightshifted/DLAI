{
 "cells": [
  {
   "cell_type": "code",
   "execution_count": 1,
   "metadata": {},
   "outputs": [],
   "source": [
    "import pandas as pd\n",
    "import numpy as np\n",
    "import matplotlib.pyplot as plt\n",
    "from urllib.parse import urlparse"
   ]
  },
  {
   "cell_type": "code",
   "execution_count": 2,
   "metadata": {},
   "outputs": [
    {
     "name": "stderr",
     "output_type": "stream",
     "text": [
      "C:\\Users\\Hedronstone\\Anaconda3\\lib\\site-packages\\IPython\\core\\interactiveshell.py:3058: DtypeWarning: Columns (26,27,28,29,30,31,32,33,34,35,36,37,38,39,40,41,42,43,44,45,46,47,48,49,50,51,52,53,54,55,56,57,58,59,60,61,62,63,64,65,66,67,68,69,70,71,72,73,74,75,76,77,78,79,80,81,82,83,84,85,86,87,88,89,90,91) have mixed types. Specify dtype option on import or set low_memory=False.\n",
      "  interactivity=interactivity, compiler=compiler, result=result)\n",
      "C:\\Users\\Hedronstone\\Anaconda3\\lib\\site-packages\\IPython\\core\\interactiveshell.py:3058: DtypeWarning: Columns (14,15,16,17,18,19,20,21,22,23,24,25,26,27,28,29,30,31,32,33,34,35,36,37,38,39,40,41,42,43,44,45,46,47,48,49,50,51,52,53,54,55,56,57,58,59,60,61,62,63,64,65,66,67,68,69,70,71,72,73,74,75,76,77,78,79,80,81,82,83,84,85,86,87,88,89,90,91) have mixed types. Specify dtype option on import or set low_memory=False.\n",
      "  interactivity=interactivity, compiler=compiler, result=result)\n",
      "C:\\Users\\Hedronstone\\Anaconda3\\lib\\site-packages\\IPython\\core\\interactiveshell.py:3058: DtypeWarning: Columns (8) have mixed types. Specify dtype option on import or set low_memory=False.\n",
      "  interactivity=interactivity, compiler=compiler, result=result)\n"
     ]
    }
   ],
   "source": [
    "# load data\n",
    "email_field_hist = pd.read_csv('data/email_field_hist.csv', encoding='utf-8').fillna(0)\n",
    "\n",
    "all_contacts = pd.read_csv('data/all_contacts.csv', encoding='utf-8').fillna(0)\n",
    "\n",
    "pageview_hist = pd.read_csv('data/pageview_hist.csv', encoding='utf-8').fillna(0)\n",
    "\n",
    "event_hist = pd.read_csv('data/event_hist.csv', encoding='utf-8').fillna(0)\n",
    "\n",
    "hubspot_export = pd.read_csv('data/hubspot_export.csv', encoding='utf-8').fillna(0)"
   ]
  },
  {
   "cell_type": "code",
   "execution_count": 3,
   "metadata": {},
   "outputs": [
    {
     "name": "stdout",
     "output_type": "stream",
     "text": [
      "email_field_hist shape: (317256, 92)\n",
      "all_contacts     shape: (6679, 29)\n",
      "pageview_hist    shape: (325025, 9)\n",
      "event_hist       shape: (317256, 92)\n",
      "hubspot_export   shape: (336955, 34)\n"
     ]
    }
   ],
   "source": [
    "print('email_field_hist shape:', email_field_hist.shape)\n",
    "print('all_contacts     shape:', all_contacts.shape)\n",
    "print('pageview_hist    shape:', pageview_hist.shape)\n",
    "print('event_hist       shape:', event_hist.shape)\n",
    "print('hubspot_export   shape:', hubspot_export.shape)"
   ]
  },
  {
   "cell_type": "code",
   "execution_count": 5,
   "metadata": {},
   "outputs": [],
   "source": [
    "# Find non-numerical features \n",
    "hubspot_export.dtypes\n",
    "\n",
    "# create list of hubspot_export.csv columns\n",
    "hubspot_cols = ['Contact ID',\n",
    " 'Became a Lead Date',\n",
    " 'Became a Subscriber Date',\n",
    " 'Became an Opportunity Date',\n",
    " 'First Conversion Date',\n",
    " 'First marketing email click date',\n",
    " 'First marketing email open date',\n",
    " 'First marketing email send date',\n",
    " 'Last Activity Date',\n",
    " 'Last marketing email click date',\n",
    " 'Last marketing email name',\n",
    " 'Last marketing email open date',\n",
    " 'Last marketing email send date',\n",
    " 'Average Pageviews',\n",
    " 'First Page Seen',\n",
    " 'Last Page Seen',\n",
    " 'Number of Pageviews',\n",
    " 'Number of Sessions',\n",
    " 'Marketing emails opened',\n",
    " 'Marketing emails delivered',\n",
    " 'Marketing emails clicked',\n",
    " 'Opted out of email: Events and Community',\n",
    " 'Opted out of email: Program Announcements',\n",
    " 'Opted out of email: The Batch',\n",
    " 'Unsubscribed from all email',\n",
    " 'Which of the following online courses have you taken from deeplearning.ai?',\n",
    " 'Last Registered Event',\n",
    " 'Last Registered Event Date',\n",
    " 'Number of event completions',\n",
    " 'Highest level of completed education',\n",
    " 'Job Title or Function',\n",
    " 'IP Country',\n",
    " 'IP Country Code',\n",
    " 'Associated Company ID']"
   ]
  },
  {
   "cell_type": "code",
   "execution_count": 6,
   "metadata": {},
   "outputs": [
    {
     "data": {
      "text/plain": [
       "(336955, 34)"
      ]
     },
     "execution_count": 6,
     "metadata": {},
     "output_type": "execute_result"
    }
   ],
   "source": [
    "X = hubspot_export[hubspot_cols]\n",
    "X.shape"
   ]
  },
  {
   "cell_type": "code",
   "execution_count": 16,
   "metadata": {},
   "outputs": [],
   "source": [
    "# Find non-numerical features \n",
    "hubspot_export.dtypes\n",
    "\n",
    "hubspot_cols = ['Became a Subscriber Date', 'Became a Lead Date', 'First Conversion Date',\n",
    "'First marketing email click date', 'First marketing email open date']\n",
    "\n",
    "X = hubspot_export[hubspot_cols]"
   ]
  },
  {
   "cell_type": "code",
   "execution_count": 17,
   "metadata": {},
   "outputs": [
    {
     "data": {
      "text/html": [
       "<div>\n",
       "<style scoped>\n",
       "    .dataframe tbody tr th:only-of-type {\n",
       "        vertical-align: middle;\n",
       "    }\n",
       "\n",
       "    .dataframe tbody tr th {\n",
       "        vertical-align: top;\n",
       "    }\n",
       "\n",
       "    .dataframe thead th {\n",
       "        text-align: right;\n",
       "    }\n",
       "</style>\n",
       "<table border=\"1\" class=\"dataframe\">\n",
       "  <thead>\n",
       "    <tr style=\"text-align: right;\">\n",
       "      <th></th>\n",
       "      <th>Became a Subscriber Date</th>\n",
       "      <th>Became a Lead Date</th>\n",
       "      <th>First Conversion Date</th>\n",
       "      <th>First marketing email click date</th>\n",
       "      <th>First marketing email open date</th>\n",
       "    </tr>\n",
       "  </thead>\n",
       "  <tbody>\n",
       "    <tr>\n",
       "      <td>0</td>\n",
       "      <td>0</td>\n",
       "      <td>2021-01-04 10:59:00</td>\n",
       "      <td>2021-01-04 10:59:00</td>\n",
       "      <td>0</td>\n",
       "      <td>0</td>\n",
       "    </tr>\n",
       "    <tr>\n",
       "      <td>1</td>\n",
       "      <td>0</td>\n",
       "      <td>2021-01-04 10:59:00</td>\n",
       "      <td>2021-01-04 10:59:00</td>\n",
       "      <td>0</td>\n",
       "      <td>0</td>\n",
       "    </tr>\n",
       "    <tr>\n",
       "      <td>2</td>\n",
       "      <td>0</td>\n",
       "      <td>2021-01-04 10:49:00</td>\n",
       "      <td>2021-01-04 10:49:00</td>\n",
       "      <td>0</td>\n",
       "      <td>0</td>\n",
       "    </tr>\n",
       "    <tr>\n",
       "      <td>3</td>\n",
       "      <td>0</td>\n",
       "      <td>2021-01-04 10:44:00</td>\n",
       "      <td>2021-01-04 10:44:00</td>\n",
       "      <td>0</td>\n",
       "      <td>0</td>\n",
       "    </tr>\n",
       "    <tr>\n",
       "      <td>4</td>\n",
       "      <td>0</td>\n",
       "      <td>2021-01-04 11:26:00</td>\n",
       "      <td>2021-01-04 11:26:00</td>\n",
       "      <td>0</td>\n",
       "      <td>0</td>\n",
       "    </tr>\n",
       "    <tr>\n",
       "      <td>...</td>\n",
       "      <td>...</td>\n",
       "      <td>...</td>\n",
       "      <td>...</td>\n",
       "      <td>...</td>\n",
       "      <td>...</td>\n",
       "    </tr>\n",
       "    <tr>\n",
       "      <td>336950</td>\n",
       "      <td>2019-07-19 10:27:00</td>\n",
       "      <td>0</td>\n",
       "      <td>0</td>\n",
       "      <td>2020-03-19 13:48:00</td>\n",
       "      <td>2019-08-18 07:57:00</td>\n",
       "    </tr>\n",
       "    <tr>\n",
       "      <td>336951</td>\n",
       "      <td>2019-07-19 10:27:00</td>\n",
       "      <td>0</td>\n",
       "      <td>0</td>\n",
       "      <td>0</td>\n",
       "      <td>2019-10-02 19:21:00</td>\n",
       "    </tr>\n",
       "    <tr>\n",
       "      <td>336952</td>\n",
       "      <td>2019-07-11 14:37:00</td>\n",
       "      <td>0</td>\n",
       "      <td>0</td>\n",
       "      <td>0</td>\n",
       "      <td>0</td>\n",
       "    </tr>\n",
       "    <tr>\n",
       "      <td>336953</td>\n",
       "      <td>0</td>\n",
       "      <td>2019-05-10 11:05:00</td>\n",
       "      <td>0</td>\n",
       "      <td>0</td>\n",
       "      <td>0</td>\n",
       "    </tr>\n",
       "    <tr>\n",
       "      <td>336954</td>\n",
       "      <td>0</td>\n",
       "      <td>2019-05-10 11:05:00</td>\n",
       "      <td>0</td>\n",
       "      <td>0</td>\n",
       "      <td>0</td>\n",
       "    </tr>\n",
       "  </tbody>\n",
       "</table>\n",
       "<p>336955 rows × 5 columns</p>\n",
       "</div>"
      ],
      "text/plain": [
       "       Became a Subscriber Date   Became a Lead Date First Conversion Date  \\\n",
       "0                             0  2021-01-04 10:59:00   2021-01-04 10:59:00   \n",
       "1                             0  2021-01-04 10:59:00   2021-01-04 10:59:00   \n",
       "2                             0  2021-01-04 10:49:00   2021-01-04 10:49:00   \n",
       "3                             0  2021-01-04 10:44:00   2021-01-04 10:44:00   \n",
       "4                             0  2021-01-04 11:26:00   2021-01-04 11:26:00   \n",
       "...                         ...                  ...                   ...   \n",
       "336950      2019-07-19 10:27:00                    0                     0   \n",
       "336951      2019-07-19 10:27:00                    0                     0   \n",
       "336952      2019-07-11 14:37:00                    0                     0   \n",
       "336953                        0  2019-05-10 11:05:00                     0   \n",
       "336954                        0  2019-05-10 11:05:00                     0   \n",
       "\n",
       "       First marketing email click date First marketing email open date  \n",
       "0                                     0                               0  \n",
       "1                                     0                               0  \n",
       "2                                     0                               0  \n",
       "3                                     0                               0  \n",
       "4                                     0                               0  \n",
       "...                                 ...                             ...  \n",
       "336950              2020-03-19 13:48:00             2019-08-18 07:57:00  \n",
       "336951                                0             2019-10-02 19:21:00  \n",
       "336952                                0                               0  \n",
       "336953                                0                               0  \n",
       "336954                                0                               0  \n",
       "\n",
       "[336955 rows x 5 columns]"
      ]
     },
     "execution_count": 17,
     "metadata": {},
     "output_type": "execute_result"
    }
   ],
   "source": [
    "X"
   ]
  },
  {
   "cell_type": "code",
   "execution_count": null,
   "metadata": {},
   "outputs": [],
   "source": []
  }
 ],
 "metadata": {
  "kernelspec": {
   "display_name": "Python 3",
   "language": "python",
   "name": "python3"
  },
  "language_info": {
   "codemirror_mode": {
    "name": "ipython",
    "version": 3
   },
   "file_extension": ".py",
   "mimetype": "text/x-python",
   "name": "python",
   "nbconvert_exporter": "python",
   "pygments_lexer": "ipython3",
   "version": "3.7.4"
  }
 },
 "nbformat": 4,
 "nbformat_minor": 2
}
