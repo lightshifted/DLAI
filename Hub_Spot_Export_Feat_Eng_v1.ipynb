{
  "nbformat": 4,
  "nbformat_minor": 0,
  "metadata": {
    "colab": {
      "name": "Hub_Spot_Export_Feat_Eng_v1.ipynb",
      "provenance": [],
      "collapsed_sections": []
    },
    "kernelspec": {
      "name": "python3",
      "display_name": "Python 3"
    }
  },
  "cells": [
    {
      "cell_type": "code",
      "metadata": {
        "id": "D-Rgj_imSe43",
        "colab": {
          "base_uri": "https://localhost:8080/"
        },
        "outputId": "8bd7cba2-eb81-4a5f-d7d6-438fd567a0f2"
      },
      "source": [
        " from google.colab import drive\r\n",
        " drive.mount('/content/drive')"
      ],
      "execution_count": 1,
      "outputs": [
        {
          "output_type": "stream",
          "text": [
            "Mounted at /content/drive\n"
          ],
          "name": "stdout"
        }
      ]
    },
    {
      "cell_type": "code",
      "metadata": {
        "colab": {
          "base_uri": "https://localhost:8080/"
        },
        "id": "Bua5J4lJU8Gk",
        "outputId": "72e0d159-41d9-4328-b9db-03460af8a8c1"
      },
      "source": [
        "cd '/content/drive/My Drive/Colab Notebooks/dl/data' "
      ],
      "execution_count": 5,
      "outputs": [
        {
          "output_type": "stream",
          "text": [
            "/content/drive/.shortcut-targets-by-id/1ZyNJXaTInYA2YPBLOAFnql__PhYO31aJ/data\n"
          ],
          "name": "stdout"
        }
      ]
    },
    {
      "cell_type": "code",
      "metadata": {
        "id": "TFztSESNSnDT",
        "colab": {
          "base_uri": "https://localhost:8080/"
        },
        "outputId": "ffbdc620-a669-4b5d-ec69-c8cf6be0e034"
      },
      "source": [
        "import os\r\n",
        "import numpy as np\r\n",
        "import pandas as pd\r\n",
        "from tabulate import tabulate\r\n",
        "from sklearn.preprocessing import StandardScaler\r\n",
        "import matplotlib.pyplot as plt\r\n",
        "import seaborn as sns\r\n",
        "import statsmodels.api as sm\r\n",
        "from datetime import datetime"
      ],
      "execution_count": 2,
      "outputs": [
        {
          "output_type": "stream",
          "text": [
            "/usr/local/lib/python3.6/dist-packages/statsmodels/tools/_testing.py:19: FutureWarning: pandas.util.testing is deprecated. Use the functions in the public API at pandas.testing instead.\n",
            "  import pandas.util.testing as tm\n"
          ],
          "name": "stderr"
        }
      ]
    },
    {
      "cell_type": "code",
      "metadata": {
        "id": "lHa5gIqfUMa2"
      },
      "source": [
        "import statsmodels.api as sm\r\n",
        "from sklearn.metrics import confusion_matrix\r\n",
        "\r\n",
        "\r\n",
        "def drop_crr(df,tol=0.8):\r\n",
        "\tcrr = df.corr().abs()\r\n",
        "\tkeep_columns = df.columns.to_list()\r\n",
        "\tkeep_dict = {clm:True for clm in keep_columns}\r\n",
        "\tfor i in range(0,len(keep_columns)-1):\r\n",
        "\t\t# Loop over all columns to the right of the current one\r\n",
        "\t    \tfor j in range(i+1,len(keep_columns)):\r\n",
        "\t    \t\t# If the absolute correlation between the current two columns is greater than or equal to 0.8...\r\n",
        "\t    \t\tif crr[keep_columns[i]].loc[keep_columns[j]] >= tol:\r\n",
        "\t    \t\t\t# If we haven't already told the keep_columns list to drop column j...\r\n",
        "\t    \t\t\tif keep_dict[keep_columns[j]] == True:\r\n",
        "\t    \t\t\t\t# Drop column j\r\n",
        "\t    \t\t\t\tkeep_dict[keep_columns[j]] = False\r\n",
        "\tselected_columns = [clm for clm in keep_dict if keep_dict[clm] == True]\r\n",
        "\tdf_out = df[selected_columns].copy()\r\n",
        "\treturn df_out, selected_columns\r\n",
        "\r\n",
        "def backwardElimination(x, y, sl, columns):\r\n",
        "\tnumVars = len(x[0])\r\n",
        "\tfor i in range(0, numVars):\r\n",
        "\t\tregressor_OLS = sm.OLS(y, x).fit()\r\n",
        "\t\t#maxVar = max(regressor_OLS.pvalues).astype(float)\r\n",
        "\t\tmaxVar = max(regressor_OLS.pvalues)\r\n",
        "\t\tif maxVar > sl:\r\n",
        "\t\t\tfor j in range(0, numVars - i):\r\n",
        "\t\t\t\tif (regressor_OLS.pvalues[j].astype(float) == maxVar):\r\n",
        "\t\t\t\t\tx = np.delete(x, j, 1)\r\n",
        "\t\t\t\t\tcolumns = np.delete(columns, j)\r\n",
        "\tregressor_OLS.summary()\r\n",
        "\treturn x, columns\r\n",
        "    \t\r\n",
        "def drop_high_impurity(df, cut_off = 0.01):\r\n",
        "\tkeep_columns = df.columns.to_list()\r\n",
        "\tkeep_dict = {}\r\n",
        "\tkeep_dict = {clm:True for clm in keep_columns}\r\n",
        "\tfor i in range(0,len(keep_columns)-1):\r\n",
        "\t\t# Loop over all columns to the right of the current one\r\n",
        "\t\tfor j in range(i+1,len(keep_columns)):\r\n",
        "\t\t\t# If the importance of the feature calculated based on impurity is greater than or equal to 0.01\r\n",
        "\t\t\tif importances[indices[i]] <= cut_off:\r\n",
        "\t\t\t\t# If we haven't already told the keep_columns list to drop column j...\r\n",
        "\t\t\t\tif keep_dict[keep_columns[j]] == True:\r\n",
        "\t\t\t\t\t# Drop column j\r\n",
        "\t\t\t\t\tkeep_dict[keep_columns[j]] = False\r\n",
        "\tselected_columns = [clm for clm in keep_dict if keep_dict[clm] == True]\r\n",
        "\tdf_out = df[selected_columns].copy()\r\n",
        "\treturn df_out\r\n",
        "\t\r\n",
        "def eval_performance_roc_auc(model, y_test, prediction, cv=5):\r\n",
        "\tcm = confusion_matrix(y_test, prediction)\r\n",
        "\tacc = np.trace(cm)/len(y_test)\r\n",
        "\troc_auc_scores = cross_val_score(model, x_test, y_test, scoring='roc_auc',cv=5)\r\n",
        "\tf1_scores_linear = cross_val_score(model, x_test, y_test, scoring='f1',cv=5)\r\n",
        "\treturn cm, acc, mean(roc_auc_scores), mean(f1_scores)"
      ],
      "execution_count": 3,
      "outputs": []
    },
    {
      "cell_type": "code",
      "metadata": {
        "id": "fgP4nns_SnmJ"
      },
      "source": [
        "df_base = pd.read_pickle(\"./hub_spot_export_clean01212021.pkl\")"
      ],
      "execution_count": 6,
      "outputs": []
    },
    {
      "cell_type": "code",
      "metadata": {
        "colab": {
          "base_uri": "https://localhost:8080/"
        },
        "id": "X9AcfdSGVN13",
        "outputId": "9df4b60d-b335-44c9-cbaa-9cee5bf5c9c1"
      },
      "source": [
        "df_base.info()"
      ],
      "execution_count": 10,
      "outputs": [
        {
          "output_type": "stream",
          "text": [
            "<class 'pandas.core.frame.DataFrame'>\n",
            "RangeIndex: 336955 entries, 0 to 336954\n",
            "Data columns (total 34 columns):\n",
            " #   Column                                                                      Non-Null Count   Dtype         \n",
            "---  ------                                                                      --------------   -----         \n",
            " 0   Contact ID                                                                  336955 non-null  int64         \n",
            " 1   Became a Lead Date                                                          89826 non-null   datetime64[ns]\n",
            " 2   Became a Subscriber Date                                                    230453 non-null  datetime64[ns]\n",
            " 3   First Conversion Date                                                       89822 non-null   datetime64[ns]\n",
            " 4   First marketing email click date                                            140535 non-null  datetime64[ns]\n",
            " 5   First marketing email open date                                             297928 non-null  datetime64[ns]\n",
            " 6   First marketing email send date                                             320191 non-null  datetime64[ns]\n",
            " 7   Last Activity Date                                                          40 non-null      datetime64[ns]\n",
            " 8   Last marketing email click date                                             140656 non-null  datetime64[ns]\n",
            " 9   Last marketing email name                                                   336955 non-null  object        \n",
            " 10  Last marketing email open date                                              298100 non-null  datetime64[ns]\n",
            " 11  Last marketing email send date                                              320205 non-null  datetime64[ns]\n",
            " 12  Average Pageviews                                                           336955 non-null  int64         \n",
            " 13  First Page Seen                                                             336955 non-null  object        \n",
            " 14  Last Page Seen                                                              336955 non-null  object        \n",
            " 15  Number of Pageviews                                                         336955 non-null  int64         \n",
            " 16  Number of Sessions                                                          336955 non-null  int64         \n",
            " 17  Marketing emails opened                                                     336955 non-null  float64       \n",
            " 18  Marketing emails delivered                                                  336955 non-null  float64       \n",
            " 19  Marketing emails clicked                                                    336955 non-null  float64       \n",
            " 20  Opted out of email: Events and Community                                    336955 non-null  float64       \n",
            " 21  Opted out of email: Program Announcements                                   336955 non-null  float64       \n",
            " 22  Opted out of email: The Batch                                               336955 non-null  float64       \n",
            " 23  Unsubscribed from all email                                                 336955 non-null  float64       \n",
            " 24  Which of the following online courses have you taken from deeplearning.ai?  13184 non-null   object        \n",
            " 25  Last Registered Event                                                       65136 non-null   object        \n",
            " 26  Last Registered Event Date                                                  65136 non-null   datetime64[ns]\n",
            " 27  Number of event completions                                                 336955 non-null  int64         \n",
            " 28  Highest level of completed education                                        336955 non-null  int64         \n",
            " 29  Job Title or Function                                                       336955 non-null  int64         \n",
            " 30  IP Country                                                                  336955 non-null  int64         \n",
            " 31  IP Country Code                                                             223268 non-null  object        \n",
            " 32  Associated Company ID                                                       336955 non-null  int64         \n",
            " 33   Last Activity Date                                                         40 non-null      datetime64[ns]\n",
            "dtypes: datetime64[ns](12), float64(7), int64(9), object(6)\n",
            "memory usage: 87.4+ MB\n"
          ],
          "name": "stdout"
        }
      ]
    },
    {
      "cell_type": "markdown",
      "metadata": {
        "id": "UosLZ8AVWs4n"
      },
      "source": [
        "## (1) Framing the problem, underlying assumptions and selecting a performance measure\r\n",
        "### Jason, Sohini, I unsuccesfulty tried to prove the following hypothesis. Underlying assumption (i) can't be proved with the existing data. We need to know exactly what is the business logic that triggers a 'First Conversion' event and consequently its associated timestamp 'First Conversion Date'. It's illogical to try to predict events from an event based on features/events that happened after a \"First Conversion Date\" was registered.\r\n",
        "### Molly Larking gave us the following information a couple of weeks ago:\r\n",
        "### We need to define or obtain a definition of \"conversion\" (e.g. is it a course purchase, event registration, marketing email click?) In case of purchase, what is the URL of a website purchase confirmation? Is course registration the only revenue source? Any paid advertisement, sponsored events, etc that are also considered \"conversions\"?\r\n",
        "### ANSWER Generally it's a purchase, but the only indicator we have is the field \"Which of the following courses have you taken...\", which isn't a perfect indicator. You can certainly explore other conversion events - I think attending an Event would be another one to explore.\r\n",
        "### Only 13,184 out of 89,822 Contact IDs that have a 'First Conversion Date' reported to have taken DL.ai courses. The difference (76,638) can not be explained by subscription or event attendance decisions based on the provided dataset.\r\n",
        "### Hypothesis 1: Contact ID Conversion history data distribution from 11/1/2019 until 10/30/2020 is representative enough to allow us to use 'First Conversion Date' information as a Target variable for Binary Classification (If a Contact ID has a 'First Conversion Date' then Target 'Conversion' = 1, otherwise 'Conversion'=0). That same information is also meaningful to be used as a feature (month and day of the month) eventually capturing any conversion seasonality across the 12-month period of time.\r\n",
        "### Underlying assumptions:\r\n",
        "### (i) A Contact ID conversion is defined by an individual who subscribed to a newsletter or event (voluntarily provided email address, courses taken, level of completed education and etc., becoming a known Contact ID from that moment onwards.\r\n",
        "### (ii) All other timestamped events such as first/last marketing emails (sent/opened/clicked), event registration/attendance and email opt-out decisions as POSTERIOR to a conversion event therefore CAN NOT be considered a cause for a conversion decision.\r\n",
        "### (iii) Same as (ii) applies to Number of Pageviews and Number of Sessions\r\n",
        "### (iv) Deeplearning.ai has not been using sales opportunities and sales leads to engage with potential learners. Data exported from Hub Spot CRM revealed empty \"Opportunity\" dates and duplicate \"Lead\" dates (exactly the same as 'First Conversion Date')\r\n",
        "### (v) As a consequence of (i) 'Became a Subscriber Date' is redundant with 'First Conversion Date'"
      ]
    },
    {
      "cell_type": "code",
      "metadata": {
        "colab": {
          "base_uri": "https://localhost:8080/",
          "height": 296
        },
        "id": "cWcdMIXxYKCw",
        "outputId": "20c5cb78-dd75-4998-9fae-4106f4c92a8c"
      },
      "source": [
        "conv_hist = df_base.groupby(df_base['First Conversion Date'].dt.date, dropna=True)['Contact ID'].count()\r\n",
        "conv_hist.plot(kind='line')"
      ],
      "execution_count": 12,
      "outputs": [
        {
          "output_type": "execute_result",
          "data": {
            "text/plain": [
              "<matplotlib.axes._subplots.AxesSubplot at 0x7f8290d977b8>"
            ]
          },
          "metadata": {
            "tags": []
          },
          "execution_count": 12
        },
        {
          "output_type": "display_data",
          "data": {
            "image/png": "[encoded data removed]",
            "text/plain": [
              "<Figure size 432x288 with 1 Axes>"
            ]
          },
          "metadata": {
            "tags": [],
            "needs_background": "light"
          }
        }
      ]
    },
    {
      "cell_type": "code",
      "metadata": {
        "colab": {
          "base_uri": "https://localhost:8080/",
          "height": 296
        },
        "id": "s6YcduwUYV4Q",
        "outputId": "e6de4580-a11a-4778-afe6-705c8212d647"
      },
      "source": [
        "conv_hist[0:60].plot(kind='line')"
      ],
      "execution_count": 25,
      "outputs": [
        {
          "output_type": "execute_result",
          "data": {
            "text/plain": [
              "<matplotlib.axes._subplots.AxesSubplot at 0x7f82885a92e8>"
            ]
          },
          "metadata": {
            "tags": []
          },
          "execution_count": 25
        },
        {
          "output_type": "display_data",
          "data": {
            "image/png": "[encoded data removed]",
            "text/plain": [
              "<Figure size 432x288 with 1 Axes>"
            ]
          },
          "metadata": {
            "tags": [],
            "needs_background": "light"
          }
        }
      ]
    },
    {
      "cell_type": "code",
      "metadata": {
        "colab": {
          "base_uri": "https://localhost:8080/"
        },
        "id": "5K__jq6HZ7an",
        "outputId": "9a74f98d-d737-4482-c0f6-3e80c686c606"
      },
      "source": [
        "conv_hist[52]"
      ],
      "execution_count": 34,
      "outputs": [
        {
          "output_type": "execute_result",
          "data": {
            "text/plain": [
              "6"
            ]
          },
          "metadata": {
            "tags": []
          },
          "execution_count": 34
        }
      ]
    },
    {
      "cell_type": "code",
      "metadata": {
        "colab": {
          "base_uri": "https://localhost:8080/"
        },
        "id": "qldG_kXraHEt",
        "outputId": "adca57c7-5e93-4aa8-82c3-e2e859b8a731"
      },
      "source": [
        "conv_hist[53]"
      ],
      "execution_count": 35,
      "outputs": [
        {
          "output_type": "execute_result",
          "data": {
            "text/plain": [
              "267"
            ]
          },
          "metadata": {
            "tags": []
          },
          "execution_count": 35
        }
      ]
    },
    {
      "cell_type": "code",
      "metadata": {
        "colab": {
          "base_uri": "https://localhost:8080/"
        },
        "id": "XhmsvpfXYshM",
        "outputId": "d995f7a7-7aa5-4eb2-ef49-77faa8be9170"
      },
      "source": [
        "conv_hist[conv_hist==267]"
      ],
      "execution_count": 36,
      "outputs": [
        {
          "output_type": "execute_result",
          "data": {
            "text/plain": [
              "First Conversion Date\n",
              "2019-11-05    267\n",
              "2020-04-28    267\n",
              "2020-06-16    267\n",
              "Name: Contact ID, dtype: int64"
            ]
          },
          "metadata": {
            "tags": []
          },
          "execution_count": 36
        }
      ]
    },
    {
      "cell_type": "code",
      "metadata": {
        "id": "-CguZJ9ccP2_"
      },
      "source": [
        "# format='%Y-%m-%d %H:%M:%S'\r\n",
        "train_start_dt = datetime(year=2019, month=11, day=1, hour=0, minute=0, second=0)\r\n",
        "train_end_dt = datetime(year=2020, month=10, day=30, hour=23, minute=59, second=59)"
      ],
      "execution_count": 40,
      "outputs": []
    },
    {
      "cell_type": "code",
      "metadata": {
        "id": "HygoFYixg5iH"
      },
      "source": [
        "mask = (df_base['First Conversion Date'] >= train_start_dt) & (df_base['First Conversion Date'] <= train_end_dt)"
      ],
      "execution_count": 52,
      "outputs": []
    },
    {
      "cell_type": "code",
      "metadata": {
        "id": "QWIGOA1gc4_o"
      },
      "source": [
        "df_train = df_base.loc[mask]"
      ],
      "execution_count": null,
      "outputs": []
    },
    {
      "cell_type": "code",
      "metadata": {
        "id": "XLUuwrs9oCb9"
      },
      "source": [
        "mask_convs_equals_subs = (df_base['First Conversion Date'] == df_base['Became a Subscriber Date'] )"
      ],
      "execution_count": 82,
      "outputs": []
    },
    {
      "cell_type": "code",
      "metadata": {
        "colab": {
          "base_uri": "https://localhost:8080/"
        },
        "id": "Z1Ta8mQGoLlB",
        "outputId": "e5b2b81b-d494-415d-e30a-042335fccf1e"
      },
      "source": [
        "print(df_base.loc[mask_convs_equals_subs].shape[0],'Contact IDs were converted at the same moment they became subscribers')"
      ],
      "execution_count": 84,
      "outputs": [
        {
          "output_type": "stream",
          "text": [
            "137 Contact IDs were converted at the same moment they became subscribers\n"
          ],
          "name": "stdout"
        }
      ]
    },
    {
      "cell_type": "code",
      "metadata": {
        "id": "8S91sPs0tsZ9"
      },
      "source": [
        "mask_convs_before_subs = (df_base['First Conversion Date'] < df_base['Became a Subscriber Date'] )"
      ],
      "execution_count": 85,
      "outputs": []
    },
    {
      "cell_type": "code",
      "metadata": {
        "colab": {
          "base_uri": "https://localhost:8080/"
        },
        "id": "XUcaHJQMtyVr",
        "outputId": "28f3890d-2ab5-4140-a03d-5fb1af641670"
      },
      "source": [
        "print(df_base.loc[mask_convs_before_subs].shape[0],'Contact IDs were converted before becoming subscribers')"
      ],
      "execution_count": 87,
      "outputs": [
        {
          "output_type": "stream",
          "text": [
            "25 Contact IDs were converted before becoming subscribers\n"
          ],
          "name": "stdout"
        }
      ]
    },
    {
      "cell_type": "code",
      "metadata": {
        "id": "1xz0M5xRuZUJ"
      },
      "source": [
        "mask_convs_after_subs = (df_base['First Conversion Date'] > df_base['Became a Subscriber Date'] )"
      ],
      "execution_count": 88,
      "outputs": []
    },
    {
      "cell_type": "code",
      "metadata": {
        "colab": {
          "base_uri": "https://localhost:8080/"
        },
        "id": "sIuBpmL4umXe",
        "outputId": "2175eb79-c8f1-483a-8a05-4805644d78ee"
      },
      "source": [
        "print(df_base.loc[mask_convs_after_subs].shape[0],'Contact IDs were converted after becoming subscribers')"
      ],
      "execution_count": 89,
      "outputs": [
        {
          "output_type": "stream",
          "text": [
            "11221 Contact IDs were converted after becoming subscribers\n"
          ],
          "name": "stdout"
        }
      ]
    },
    {
      "cell_type": "code",
      "metadata": {
        "id": "g1s1KJ7-pB2E"
      },
      "source": [
        "mask_first_mktg = (df_base['First marketing email send date'] < df_base['Became a Subscriber Date'] )"
      ],
      "execution_count": 69,
      "outputs": []
    },
    {
      "cell_type": "code",
      "metadata": {
        "colab": {
          "base_uri": "https://localhost:8080/"
        },
        "id": "X741vgdTpQLm",
        "outputId": "e423391d-b3be-443c-c3c8-2cdeb38c50fb"
      },
      "source": [
        "print(df_base.loc[mask_first_mktg].shape[0],'Contact IDs were converted after receiving a first marketing email')"
      ],
      "execution_count": 78,
      "outputs": [
        {
          "output_type": "stream",
          "text": [
            "954 Contact IDs were converted after receiving a first marketing email\n"
          ],
          "name": "stdout"
        }
      ]
    },
    {
      "cell_type": "code",
      "metadata": {
        "id": "LfKJnyQfqPRw"
      },
      "source": [
        "mask_last_mktg = (df_base['Last marketing email send date'] < df_base['Became a Subscriber Date'] )"
      ],
      "execution_count": 72,
      "outputs": []
    },
    {
      "cell_type": "code",
      "metadata": {
        "colab": {
          "base_uri": "https://localhost:8080/"
        },
        "id": "zJDaL_5qqazH",
        "outputId": "0e98e4eb-130d-4217-fecc-c34eff8c5ebe"
      },
      "source": [
        "print(df_base.loc[mask_last_mktg].shape[0],'Contact IDs were converted after receiving the last marketing email')"
      ],
      "execution_count": 79,
      "outputs": [
        {
          "output_type": "stream",
          "text": [
            "177 Contact IDs were converted after receiving the last marketing email\n"
          ],
          "name": "stdout"
        }
      ]
    },
    {
      "cell_type": "code",
      "metadata": {
        "id": "JsSfeLbTqnK5"
      },
      "source": [
        "mask_lead = (df_base['Became a Lead Date'] < df_base['Became a Subscriber Date'] )"
      ],
      "execution_count": 74,
      "outputs": []
    },
    {
      "cell_type": "code",
      "metadata": {
        "colab": {
          "base_uri": "https://localhost:8080/"
        },
        "id": "P1QWcNB4quS7",
        "outputId": "29b0116f-4765-47d9-e47a-f019c1e5cdf0"
      },
      "source": [
        "print(df_base.loc[mask_lead].shape[0],'Contact IDs were converted after becoming a sales lead')"
      ],
      "execution_count": 75,
      "outputs": [
        {
          "output_type": "stream",
          "text": [
            "0 Contact IDs were converted after becoming a sales lead\n"
          ],
          "name": "stdout"
        }
      ]
    },
    {
      "cell_type": "code",
      "metadata": {
        "id": "E-fP4h4ArFaR"
      },
      "source": [
        "mask_lead = (df_base['Last Registered Event Date'] < df_base['Became a Subscriber Date'] )"
      ],
      "execution_count": 76,
      "outputs": []
    },
    {
      "cell_type": "code",
      "metadata": {
        "colab": {
          "base_uri": "https://localhost:8080/"
        },
        "id": "dTQjvL-OrO7Z",
        "outputId": "26fc33fb-dfbd-4a83-b2e2-f403db96fcbc"
      },
      "source": [
        "print(df_base.loc[mask_lead].shape[0],'Contact IDs were converted after registering for the last event')"
      ],
      "execution_count": 77,
      "outputs": [
        {
          "output_type": "stream",
          "text": [
            "5087 Contact IDs were converted after registering for the last event\n"
          ],
          "name": "stdout"
        }
      ]
    },
    {
      "cell_type": "code",
      "metadata": {
        "colab": {
          "base_uri": "https://localhost:8080/"
        },
        "id": "uFT1bIi7qBiB",
        "outputId": "2cc173e6-b346-4f27-9077-eea34e278b72"
      },
      "source": [
        "df_base.info()"
      ],
      "execution_count": 67,
      "outputs": [
        {
          "output_type": "stream",
          "text": [
            "<class 'pandas.core.frame.DataFrame'>\n",
            "RangeIndex: 336955 entries, 0 to 336954\n",
            "Data columns (total 34 columns):\n",
            " #   Column                                                                      Non-Null Count   Dtype         \n",
            "---  ------                                                                      --------------   -----         \n",
            " 0   Contact ID                                                                  336955 non-null  int64         \n",
            " 1   Became a Lead Date                                                          89826 non-null   datetime64[ns]\n",
            " 2   Became a Subscriber Date                                                    230453 non-null  datetime64[ns]\n",
            " 3   First Conversion Date                                                       89822 non-null   datetime64[ns]\n",
            " 4   First marketing email click date                                            140535 non-null  datetime64[ns]\n",
            " 5   First marketing email open date                                             297928 non-null  datetime64[ns]\n",
            " 6   First marketing email send date                                             320191 non-null  datetime64[ns]\n",
            " 7   Last Activity Date                                                          40 non-null      datetime64[ns]\n",
            " 8   Last marketing email click date                                             140656 non-null  datetime64[ns]\n",
            " 9   Last marketing email name                                                   336955 non-null  object        \n",
            " 10  Last marketing email open date                                              298100 non-null  datetime64[ns]\n",
            " 11  Last marketing email send date                                              320205 non-null  datetime64[ns]\n",
            " 12  Average Pageviews                                                           336955 non-null  int64         \n",
            " 13  First Page Seen                                                             336955 non-null  object        \n",
            " 14  Last Page Seen                                                              336955 non-null  object        \n",
            " 15  Number of Pageviews                                                         336955 non-null  int64         \n",
            " 16  Number of Sessions                                                          336955 non-null  int64         \n",
            " 17  Marketing emails opened                                                     336955 non-null  float64       \n",
            " 18  Marketing emails delivered                                                  336955 non-null  float64       \n",
            " 19  Marketing emails clicked                                                    336955 non-null  float64       \n",
            " 20  Opted out of email: Events and Community                                    336955 non-null  float64       \n",
            " 21  Opted out of email: Program Announcements                                   336955 non-null  float64       \n",
            " 22  Opted out of email: The Batch                                               336955 non-null  float64       \n",
            " 23  Unsubscribed from all email                                                 336955 non-null  float64       \n",
            " 24  Which of the following online courses have you taken from deeplearning.ai?  13184 non-null   object        \n",
            " 25  Last Registered Event                                                       65136 non-null   object        \n",
            " 26  Last Registered Event Date                                                  65136 non-null   datetime64[ns]\n",
            " 27  Number of event completions                                                 336955 non-null  int64         \n",
            " 28  Highest level of completed education                                        336955 non-null  int64         \n",
            " 29  Job Title or Function                                                       336955 non-null  int64         \n",
            " 30  IP Country                                                                  336955 non-null  int64         \n",
            " 31  IP Country Code                                                             223268 non-null  object        \n",
            " 32  Associated Company ID                                                       336955 non-null  int64         \n",
            " 33   Last Activity Date                                                         40 non-null      datetime64[ns]\n",
            "dtypes: datetime64[ns](12), float64(7), int64(9), object(6)\n",
            "memory usage: 87.4+ MB\n"
          ],
          "name": "stdout"
        }
      ]
    },
    {
      "cell_type": "code",
      "metadata": {
        "id": "EMWXteNhbzGY"
      },
      "source": [
        "# df_train = df_base[df_base['First Conversion Date'] >= train_start_dt and df_base['First Conversion Date'] <= train_end_dt ]]"
      ],
      "execution_count": null,
      "outputs": []
    },
    {
      "cell_type": "code",
      "metadata": {
        "id": "XWjDst1_VAr2"
      },
      "source": [
        "# numeric_columns = df_base.select_dtypes([np.int64, np.float64]).columns.to_list()"
      ],
      "execution_count": 37,
      "outputs": []
    }
  ]
}